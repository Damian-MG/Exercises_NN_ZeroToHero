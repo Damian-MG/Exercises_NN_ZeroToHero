{
  "nbformat": 4,
  "nbformat_minor": 0,
  "metadata": {
    "colab": {
      "provenance": []
    },
    "kernelspec": {
      "name": "python3",
      "display_name": "Python 3"
    },
    "language_info": {
      "name": "python"
    }
  },
  "cells": [
    {
      "cell_type": "code",
      "source": [
        "import torch\n",
        "import matplotlib.pyplot as plt\n",
        "import torch.nn.functional as F\n",
        "%matplotlib inline"
      ],
      "metadata": {
        "id": "7KBflXSO82Ii"
      },
      "execution_count": 1,
      "outputs": []
    },
    {
      "cell_type": "code",
      "source": [
        "# Make a list of chars\n",
        "words = open('names.txt', 'r').read().splitlines()\n",
        "chars = sorted(list(set(''.join(words))))\n",
        "chars = ['.'] + chars\n",
        "# Dictionnary char to index\n",
        "stoi = {s:i for i,s in enumerate(chars)}\n",
        "# Dictionnary index to char\n",
        "itos = {i:s for s,i in stoi.items()}"
      ],
      "metadata": {
        "id": "IHxLtMRM9J6K"
      },
      "execution_count": 6,
      "outputs": []
    },
    {
      "cell_type": "code",
      "source": [
        "block_size = 4\n",
        "\n",
        "def build_dataset(words, block_size):\n",
        "  X, Y = [], []\n",
        "  for w in words:\n",
        "    context = [0] * block_size\n",
        "    for ch in w + '.':\n",
        "      ix = stoi[ch]\n",
        "      X.append(context)\n",
        "      Y.append(ix)\n",
        "      context = context[1:] + [ix]\n",
        "  X = torch.tensor(X)\n",
        "  Y = torch.tensor(Y)\n",
        "  return X, Y"
      ],
      "metadata": {
        "id": "TTdSqz5t9-rc"
      },
      "execution_count": 16,
      "outputs": []
    },
    {
      "cell_type": "code",
      "source": [
        "import random\n",
        "random.seed(42)\n",
        "random.shuffle(words)\n",
        "n1 = int(0.8*len(words))\n",
        "n2 = int(0.9*len(words))\n",
        "\n",
        "train = words[:n1]\n",
        "dev = words[n1:n2]\n",
        "test = words[n2:]\n",
        "\n",
        "Xtr, Ytr = build_dataset(train, block_size)\n",
        "Xdev, Ydev = build_dataset(dev, block_size)\n",
        "Xte, Yte = build_dataset(test, block_size)"
      ],
      "metadata": {
        "id": "ig-jjKii_Naq"
      },
      "execution_count": 17,
      "outputs": []
    },
    {
      "cell_type": "markdown",
      "source": [
        "E01: Tune the hyperparameters of the training to beat my best validation loss of 2.2"
      ],
      "metadata": {
        "id": "DMGgfFb38zEd"
      }
    },
    {
      "cell_type": "code",
      "source": [
        "emb_dim = 10\n",
        "in_size = block_size * emb_dim\n",
        "hidden_size = 256\n",
        "out_size = len(chars)\n",
        "\n",
        "lr = 0.1\n",
        "lambda_ = 0.01\n",
        "batch_size = 300"
      ],
      "metadata": {
        "id": "3T99EJiEBLe9"
      },
      "execution_count": 18,
      "outputs": []
    },
    {
      "cell_type": "code",
      "source": [
        "g = torch.Generator().manual_seed(42)\n",
        "C = torch.randn((out_size, emb_dim), generator=g) # Embedding matrix\n",
        "W1 = torch.randn((in_size, hidden_size), generator=g)\n",
        "b1 = torch.randn(hidden_size, generator=g)\n",
        "W2 = torch.randn((hidden_size, out_size), generator=g)\n",
        "b2 = torch.randn(out_size, generator=g)\n",
        "parameters = [C, W1, b1, W2, b2]\n",
        "\n",
        "print(f'{sum(p.nelement() for p in parameters)=}')\n",
        "\n",
        "for p in parameters:\n",
        "  p.requires_grad = True\n",
        "\n",
        "lossi = []\n",
        "stepi = []"
      ],
      "metadata": {
        "id": "PXXSN4MhCgNh",
        "outputId": "e6656166-4e9b-446d-c9ca-d8b9c188387b",
        "colab": {
          "base_uri": "https://localhost:8080/"
        }
      },
      "execution_count": 21,
      "outputs": [
        {
          "output_type": "stream",
          "name": "stdout",
          "text": [
            "sum(p.nelement() for p in parameters)=17705\n"
          ]
        }
      ]
    },
    {
      "cell_type": "code",
      "source": [
        "for i in range(300000):\n",
        "\n",
        "  # Minibatch construct\n",
        "  ix = torch.randint(0, Xtr.shape[0], (batch_size,), generator=g)\n",
        "\n",
        "  # Forward pass\n",
        "  emb = C[Xtr[ix]]\n",
        "  h = torch.tanh(emb.view(-1, in_size) @ W1 + b1)\n",
        "  logits = h @ W2 + b2\n",
        "  loss = F.cross_entropy(logits, Ytr[ix])\n",
        "\n",
        "  # Backward pass\n",
        "  for p in parameters:\n",
        "    p.grad = None\n",
        "  loss.backward()\n",
        "\n",
        "  # Update\n",
        "  lr = 0.1 if i < 100000 else 0.01\n",
        "  for p in parameters:\n",
        "    p.data += -lr * p.grad\n",
        "\n",
        "  stepi.append(i)\n",
        "  lossi.append(loss.log10().item())\n",
        "\n",
        "  if i % 10000 == 0:\n",
        "    print(f\"mini batch {i} | loss {loss.item()} at lr {lr}\")"
      ],
      "metadata": {
        "id": "Bf_NZSgPG-Mz",
        "outputId": "1795928b-32e8-4d42-af49-0908817bf13c",
        "colab": {
          "base_uri": "https://localhost:8080/"
        }
      },
      "execution_count": 22,
      "outputs": [
        {
          "output_type": "stream",
          "name": "stdout",
          "text": [
            "mini batch 0 | loss 28.155576705932617 at lr 0.1\n",
            "mini batch 10000 | loss 2.3577139377593994 at lr 0.1\n",
            "mini batch 20000 | loss 2.2117621898651123 at lr 0.1\n",
            "mini batch 30000 | loss 2.241863250732422 at lr 0.1\n",
            "mini batch 40000 | loss 2.2811520099639893 at lr 0.1\n",
            "mini batch 50000 | loss 2.295607089996338 at lr 0.1\n",
            "mini batch 60000 | loss 2.1925876140594482 at lr 0.1\n",
            "mini batch 70000 | loss 2.116612672805786 at lr 0.1\n",
            "mini batch 80000 | loss 2.2323737144470215 at lr 0.1\n",
            "mini batch 90000 | loss 2.027623414993286 at lr 0.1\n",
            "mini batch 100000 | loss 2.127627372741699 at lr 0.01\n",
            "mini batch 110000 | loss 2.1775400638580322 at lr 0.01\n",
            "mini batch 120000 | loss 2.1705405712127686 at lr 0.01\n",
            "mini batch 130000 | loss 2.0680365562438965 at lr 0.01\n",
            "mini batch 140000 | loss 2.1269454956054688 at lr 0.01\n",
            "mini batch 150000 | loss 2.0743520259857178 at lr 0.01\n",
            "mini batch 160000 | loss 2.0979528427124023 at lr 0.01\n",
            "mini batch 170000 | loss 1.9895522594451904 at lr 0.01\n",
            "mini batch 180000 | loss 1.950185775756836 at lr 0.01\n",
            "mini batch 190000 | loss 2.1219961643218994 at lr 0.01\n",
            "mini batch 200000 | loss 2.083615779876709 at lr 0.01\n",
            "mini batch 210000 | loss 2.0764832496643066 at lr 0.01\n",
            "mini batch 220000 | loss 2.123051643371582 at lr 0.01\n",
            "mini batch 230000 | loss 2.0973219871520996 at lr 0.01\n",
            "mini batch 240000 | loss 2.140289068222046 at lr 0.01\n",
            "mini batch 250000 | loss 2.1208865642547607 at lr 0.01\n",
            "mini batch 260000 | loss 2.1695215702056885 at lr 0.01\n",
            "mini batch 270000 | loss 2.1942174434661865 at lr 0.01\n",
            "mini batch 280000 | loss 2.1951146125793457 at lr 0.01\n",
            "mini batch 290000 | loss 2.0458624362945557 at lr 0.01\n"
          ]
        }
      ]
    },
    {
      "cell_type": "code",
      "source": [
        "plt.plot(stepi, lossi)"
      ],
      "metadata": {
        "id": "yx7ItWaDKKMj",
        "outputId": "0bdf491f-1ba5-466e-c8d1-83aa5be5b052",
        "colab": {
          "base_uri": "https://localhost:8080/",
          "height": 448
        }
      },
      "execution_count": 23,
      "outputs": [
        {
          "output_type": "execute_result",
          "data": {
            "text/plain": [
              "[<matplotlib.lines.Line2D at 0x7b015efa6950>]"
            ]
          },
          "metadata": {},
          "execution_count": 23
        },
        {
          "output_type": "display_data",
          "data": {
            "text/plain": [
              "<Figure size 640x480 with 1 Axes>"
            ],
            "image/png": "[encoded data removed]"
          },
          "metadata": {}
        }
      ]
    },
    {
      "cell_type": "code",
      "source": [
        "# Evaluation with training\n",
        "emb = C[Xtr]\n",
        "h = torch.tanh(emb.view(-1, in_size) @ W1 + b1)\n",
        "logits = h @ W2 + b2\n",
        "loss = F.cross_entropy(logits, Ytr)\n",
        "print(f\"Training set loss {loss.item()}\")\n",
        "\n",
        "# Evaluation with dev\n",
        "emb = C[Xdev]\n",
        "h = torch.tanh(emb.view(-1, in_size) @ W1 + b1)\n",
        "logits = h @ W2 + b2\n",
        "loss = F.cross_entropy(logits, Ydev)\n",
        "print(f\"Dev set loss {loss.item()}\")\n"
      ],
      "metadata": {
        "id": "b7Axg0VMJeSh",
        "outputId": "69d9dcf7-f402-474f-b404-c94138ab8dfe",
        "colab": {
          "base_uri": "https://localhost:8080/"
        }
      },
      "execution_count": 24,
      "outputs": [
        {
          "output_type": "stream",
          "name": "stdout",
          "text": [
            "Training set loss 2.114255905151367\n",
            "Dev set loss 2.1415328979492188\n"
          ]
        }
      ]
    },
    {
      "cell_type": "markdown",
      "source": [
        "E02: Initialization of the network.\n",
        "\n",
        "(1) What is the loss you'd get if the predicted probabilities at initialization were perfectly uniform? What loss do we achieve?"
      ],
      "metadata": {
        "id": "xl0MAT64KotY"
      }
    },
    {
      "cell_type": "code",
      "source": [
        "# Evaluation with training\n",
        "emb = C[Xtr]\n",
        "h = torch.tanh(emb.view(-1, in_size) @ W1 + b1)\n",
        "logits = h @ W2 + b2\n",
        "torch.nn.init.uniform_(logits, 0, 1)\n",
        "loss = F.cross_entropy(logits, Ytr)\n",
        "print(f\"Training set loss {loss.item()}\")\n",
        "\n",
        "# Evaluation with dev\n",
        "emb = C[Xdev]\n",
        "h = torch.tanh(emb.view(-1, in_size) @ W1 + b1)\n",
        "logits = h @ W2 + b2\n",
        "torch.nn.init.uniform_(logits, 0, 1)\n",
        "loss = F.cross_entropy(logits, Ydev)\n",
        "print(f\"Dev set loss {loss.item()}\")"
      ],
      "metadata": {
        "id": "1pJ939bxKykk",
        "outputId": "6e1f8910-07c2-4d49-c5b5-c59a2154ab28",
        "colab": {
          "base_uri": "https://localhost:8080/"
        }
      },
      "execution_count": 27,
      "outputs": [
        {
          "output_type": "stream",
          "name": "stdout",
          "text": [
            "Training set loss 3.3361880779266357\n",
            "Dev set loss 3.337000608444214\n"
          ]
        }
      ]
    },
    {
      "cell_type": "markdown",
      "source": [
        "(2) Can you tune the initialization to get a starting loss that is much more similar to (1)?"
      ],
      "metadata": {
        "id": "L7Ph6jCYKxOo"
      }
    },
    {
      "cell_type": "code",
      "source": [
        "torch.nn.init.normal_(C, 0, 0.01)\n",
        "torch.nn.init.normal_(W1, 0, 0.01)\n",
        "torch.nn.init.normal_(b1, 0, 0.01)\n",
        "torch.nn.init.normal_(W2, 0, 0.01)\n",
        "torch.nn.init.normal_(b2, 0, 0.01)\n",
        "X = Xtr\n",
        "Y = Ytr\n",
        "parameters = [C, W1, b1, W2, b2]\n",
        "\n",
        "print(f\"number of params = {sum(p.nelement() for p in parameters)}\")\n",
        "\n",
        "for p in parameters:\n",
        "    p.requires_grad = True"
      ],
      "metadata": {
        "id": "SC5OAdTrMqbQ",
        "outputId": "75d34054-5d61-4683-dfd7-acb319b7ccb6",
        "colab": {
          "base_uri": "https://localhost:8080/"
        }
      },
      "execution_count": 25,
      "outputs": [
        {
          "output_type": "stream",
          "name": "stdout",
          "text": [
            "number of params = 17705\n"
          ]
        }
      ]
    },
    {
      "cell_type": "code",
      "source": [
        "emb = C[Xtr]\n",
        "h = torch.tanh(emb.view(-1, in_size) @ W1 + b1)\n",
        "logits = h @ W2 + b2\n",
        "loss = F.cross_entropy(logits, Ytr)\n",
        "print(f\"Starting loss {loss.item()}\")"
      ],
      "metadata": {
        "id": "5jaE1AzJNAkx",
        "outputId": "dcf25fbe-377b-4e87-df38-c769e9515afe",
        "colab": {
          "base_uri": "https://localhost:8080/"
        }
      },
      "execution_count": 26,
      "outputs": [
        {
          "output_type": "stream",
          "name": "stdout",
          "text": [
            "Starting loss 3.2982730865478516\n"
          ]
        }
      ]
    },
    {
      "cell_type": "markdown",
      "source": [
        "E03: Read the Bengio et al 2003 paper, implement and try any idea from the paper. Did it work?\n",
        "\n",
        "- Regularization implemented but small effec on validation loss."
      ],
      "metadata": {
        "id": "heFfspxsORqL"
      }
    }
  ]
}