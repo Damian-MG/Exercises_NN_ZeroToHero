{
  "cells": [
    {
      "cell_type": "code",
      "execution_count": 1,
      "metadata": {
        "id": "BSp-6dguK38T"
      },
      "outputs": [],
      "source": [
        "import torch\n",
        "import torch.nn.functional as F\n",
        "import matplotlib.pyplot as plt\n",
        "import math"
      ]
    },
    {
      "cell_type": "code",
      "execution_count": 2,
      "metadata": {
        "colab": {
          "base_uri": "https://localhost:8080/"
        },
        "id": "99IYrokILZQA",
        "outputId": "badcb5bf-e1da-4129-e6b1-c4dc6f99763c"
      },
      "outputs": [
        {
          "output_type": "stream",
          "name": "stdout",
          "text": [
            "['emma', 'olivia', 'ava', 'isabella', 'sophia', 'charlotte', 'mia', 'amelia']\n",
            "32033\n"
          ]
        }
      ],
      "source": [
        "# Read in all the words\n",
        "words = open('names.txt', 'r').read().splitlines()\n",
        "print(words[:8])\n",
        "print(len(words))"
      ]
    },
    {
      "cell_type": "code",
      "execution_count": 3,
      "metadata": {
        "colab": {
          "base_uri": "https://localhost:8080/"
        },
        "id": "sac4uRHpLu-l",
        "outputId": "f003dca0-4f26-409f-cdd9-545ee5f1b411"
      },
      "outputs": [
        {
          "output_type": "stream",
          "name": "stdout",
          "text": [
            "{1: 'a', 2: 'b', 3: 'c', 4: 'd', 5: 'e', 6: 'f', 7: 'g', 8: 'h', 9: 'i', 10: 'j', 11: 'k', 12: 'l', 13: 'm', 14: 'n', 15: 'o', 16: 'p', 17: 'q', 18: 'r', 19: 's', 20: 't', 21: 'u', 22: 'v', 23: 'w', 24: 'x', 25: 'y', 26: 'z', 0: '.'}\n",
            "27\n"
          ]
        }
      ],
      "source": [
        "# Build the vocabulary of characters and mappings to/from integers\n",
        "chars = sorted(list(set(''.join(words))))\n",
        "stoi = {s:i+1 for i,s in enumerate(chars)}\n",
        "stoi['.'] = 0\n",
        "itos = {i:s for s,i in stoi.items()}\n",
        "vocab_size = len(itos)\n",
        "print(itos)\n",
        "print(vocab_size)"
      ]
    },
    {
      "cell_type": "code",
      "execution_count": 4,
      "metadata": {
        "colab": {
          "base_uri": "https://localhost:8080/"
        },
        "id": "Rt_VOeS6MOor",
        "outputId": "9f117d9c-7418-411e-c540-d5482a12a666"
      },
      "outputs": [
        {
          "output_type": "stream",
          "name": "stdout",
          "text": [
            "torch.Size([182625, 3]) torch.Size([182625])\n",
            "torch.Size([22655, 3]) torch.Size([22655])\n",
            "torch.Size([22866, 3]) torch.Size([22866])\n"
          ]
        }
      ],
      "source": [
        "# Build the dataset\n",
        "block_size = 3 # context length: how many characters do we take to predict the next one?\n",
        "\n",
        "def build_dataset(words):\n",
        "  X, Y = [], []\n",
        "\n",
        "  for w in words:\n",
        "    context = [0] * block_size\n",
        "    for ch in w + '.':\n",
        "      ix = stoi[ch]\n",
        "      X.append(context)\n",
        "      Y.append(ix)\n",
        "      context = context[1:] + [ix] # crop and append\n",
        "\n",
        "  X = torch.tensor(X)\n",
        "  Y = torch.tensor(Y)\n",
        "  print(X.shape, Y.shape)\n",
        "  return X, Y\n",
        "\n",
        "import random\n",
        "random.seed(42)\n",
        "random.shuffle(words)\n",
        "n1 = int(0.8*len(words))\n",
        "n2 = int(0.9*len(words))\n",
        "\n",
        "Xtr, Ytr = build_dataset(words[:n1])\n",
        "Xdev, Ydev = build_dataset(words[n1:n2])\n",
        "Xte, Yte = build_dataset(words[n2:])"
      ]
    },
    {
      "cell_type": "markdown",
      "metadata": {
        "id": "pWYWbNITUGpK"
      },
      "source": [
        "E01: Initialize all weights and biases to zero and train the neural net. Either:\n",
        " 1) the network trains just fine.\n",
        " 2) the network doesn't train at all, but actually it is\n",
        " 3) the network trains but only partially, and achieves a pretty bad final performance.\n",
        "\n",
        " Inspect the gradients and activations to figure out what is happening and why the network is only partially training, and what part is being trained exactly."
      ]
    },
    {
      "cell_type": "code",
      "execution_count": 5,
      "metadata": {
        "id": "ZKgKvWLeVZ_h"
      },
      "outputs": [],
      "source": [
        "gain = 0.2\n",
        "last_layer_confidence = 0.1\n",
        "\n",
        "using_batch_norm = False\n",
        "div_by_fan_in = False"
      ]
    },
    {
      "cell_type": "code",
      "execution_count": 6,
      "metadata": {
        "id": "NbeM_E1mUfV_"
      },
      "outputs": [],
      "source": [
        "class Linear:\n",
        "\n",
        "  def __init__(self, fan_in, fan_out, bias=True):\n",
        "    #self.weight = torch.randn((fan_in, fan_out), generator=g) / fan_in**0.5\n",
        "    # Initialize weights and biases to 0\n",
        "    self.weight = torch.zeros((fan_in, fan_out))\n",
        "    if div_by_fan_in:\n",
        "      self.weight = self.weight / fan_in**0.5\n",
        "    self.bias = torch.zeros(fan_out) if bias else None\n",
        "\n",
        "  def __call__(self, x):\n",
        "    self.out = x @ self.weight\n",
        "    if self.bias is not None:\n",
        "      self.out += self.bias\n",
        "    return self.out\n",
        "\n",
        "  def parameters(self):\n",
        "    return [self.weight] + ([] if self.bias is None else [self.bias])\n",
        "\n",
        "\n",
        "class BatchNorm1d:\n",
        "\n",
        "  def __init__(self, dim, eps=1e-5, momentum=0.1):\n",
        "    self.eps = eps\n",
        "    self.momentum = momentum\n",
        "    self.training = True\n",
        "    # parameters (trained with backprop)\n",
        "    self.gamma = torch.ones(dim)\n",
        "    self.beta = torch.zeros(dim)\n",
        "    # buffers (trained with a running 'momentum update')\n",
        "    self.running_mean = torch.zeros(dim)\n",
        "    self.running_var = torch.ones(dim)\n",
        "\n",
        "  def __call__(self, x):\n",
        "    # calculate the forward pass\n",
        "    if self.training:\n",
        "      xmean = x.mean(0, keepdim=True) # batch mean\n",
        "      xvar = x.var(0, keepdim=True) # batch variance\n",
        "    else:\n",
        "      xmean = self.running_mean\n",
        "      xvar = self.running_var\n",
        "    xhat = (x - xmean) / torch.sqrt(xvar + self.eps) # normalize to unit variance\n",
        "    self.out = self.gamma * xhat + self.beta\n",
        "    # update the buffers\n",
        "    if self.training:\n",
        "      with torch.no_grad():\n",
        "        self.running_mean = (1 - self.momentum) * self.running_mean + self.momentum * xmean\n",
        "        self.running_var = (1 - self.momentum) * self.running_var + self.momentum * xvar\n",
        "    return self.out\n",
        "\n",
        "  def parameters(self):\n",
        "    return [self.gamma, self.beta]\n",
        "\n",
        "class Tanh:\n",
        "  def __call__(self, x):\n",
        "    self.out = torch.tanh(x)\n",
        "    return self.out\n",
        "  def parameters(self):\n",
        "    return []"
      ]
    },
    {
      "cell_type": "code",
      "execution_count": 7,
      "metadata": {
        "colab": {
          "base_uri": "https://localhost:8080/"
        },
        "id": "zRCc7c0UWlc2",
        "outputId": "cdd2b9e5-b046-45f5-a3c2-e42491dd4b1e"
      },
      "outputs": [
        {
          "output_type": "stream",
          "name": "stdout",
          "text": [
            "46497\n"
          ]
        }
      ],
      "source": [
        "n_embd = 10 # the dimensionality of the character embedding vectors\n",
        "n_hidden = 100 # the number of neurons in the hidden layer of the MLP\n",
        "g = torch.Generator().manual_seed(2147483647) # for reproducibility\n",
        "\n",
        "#C = torch.randn((vocab_size, n_embd),            generator=g)\n",
        "# Token embedding matrix to 0\n",
        "C = torch.zeros((vocab_size, n_embd))\n",
        "if not using_batch_norm:\n",
        "    layers = [\n",
        "        Linear(n_embd * block_size, n_hidden), Tanh(),\n",
        "        Linear(         n_hidden, n_hidden), Tanh(),\n",
        "        Linear(         n_hidden, n_hidden), Tanh(),\n",
        "        Linear(         n_hidden, n_hidden), Tanh(),\n",
        "        Linear(         n_hidden, n_hidden), Tanh(),\n",
        "        Linear(         n_hidden, vocab_size)\n",
        "    ]\n",
        "if using_batch_norm:\n",
        "    layers = [\n",
        "        Linear(n_embd * block_size, n_hidden, bias = False), BatchNorm1d(n_hidden) ,Tanh(),\n",
        "        Linear(         n_hidden, n_hidden, bias = False), BatchNorm1d(n_hidden) ,Tanh(),\n",
        "        Linear(         n_hidden, n_hidden, bias = False), BatchNorm1d(n_hidden) ,Tanh(),\n",
        "        Linear(         n_hidden, n_hidden, bias = False), BatchNorm1d(n_hidden) ,Tanh(),\n",
        "        Linear(         n_hidden, n_hidden, bias = False), BatchNorm1d(n_hidden) ,Tanh(),\n",
        "        Linear(         n_hidden, vocab_size, bias = False), BatchNorm1d(vocab_size) # you can add it here too\n",
        "    ]\n",
        "\n",
        "with torch.no_grad():\n",
        "    # last layer: make less confident\n",
        "    if not using_batch_norm:\n",
        "        layers[-1].weight *= last_layer_confidence\n",
        "    if using_batch_norm:\n",
        "        layers[-1].gamma *= last_layer_confidence\n",
        "\n",
        "    # other layers: apply gain\n",
        "    for layer in layers[:-1]:\n",
        "        if isinstance(layer, Linear):\n",
        "            # change this gain (default 5/3)\n",
        "            layer.weight *= gain\n",
        "\n",
        "parameters = [C] + [p for layer in layers for p in layer.parameters()]\n",
        "print(sum(p.nelement() for p in parameters)) # number of parameters in total\n",
        "\n",
        "for p in parameters:\n",
        "  p.requires_grad = True"
      ]
    },
    {
      "cell_type": "code",
      "execution_count": 8,
      "metadata": {
        "colab": {
          "base_uri": "https://localhost:8080/"
        },
        "id": "kcMhejMXY6gg",
        "outputId": "8585a0e5-2dd4-4374-f2dd-4decf4cd34c5"
      },
      "outputs": [
        {
          "output_type": "stream",
          "name": "stdout",
          "text": [
            "      0/ 200000: 3.2958\n",
            "  10000/ 200000: 2.7441\n",
            "  20000/ 200000: 2.8725\n",
            "  30000/ 200000: 2.8594\n",
            "  40000/ 200000: 2.7807\n",
            "  50000/ 200000: 2.8811\n",
            "  60000/ 200000: 2.8126\n",
            "  70000/ 200000: 2.3947\n",
            "  80000/ 200000: 2.7539\n",
            "  90000/ 200000: 2.8137\n",
            " 100000/ 200000: 2.7978\n",
            " 110000/ 200000: 2.6773\n",
            " 120000/ 200000: 2.8274\n",
            " 130000/ 200000: 2.5794\n",
            " 140000/ 200000: 2.8856\n",
            " 150000/ 200000: 2.9309\n",
            " 160000/ 200000: 2.8699\n",
            " 170000/ 200000: 2.5973\n",
            " 180000/ 200000: 3.1450\n",
            " 190000/ 200000: 2.6769\n"
          ]
        }
      ],
      "source": [
        "# same optimization as last time\n",
        "max_steps = 200000\n",
        "batch_size = 32\n",
        "lossi = []\n",
        "update_to_data_ratio = []\n",
        "\n",
        "\n",
        "for i in range(max_steps):\n",
        "\n",
        "  # minibatch construct\n",
        "  ix = torch.randint(0, Xtr.shape[0], (batch_size,), generator=g)\n",
        "  Xb, Yb = Xtr[ix], Ytr[ix] # batch X,Y\n",
        "\n",
        "  # forward pass\n",
        "  emb = C[Xb] # embed the characters into vectors\n",
        "  x = emb.view(emb.shape[0], -1) # concatenate the vectors\n",
        "  for layer in layers:\n",
        "    x = layer(x)\n",
        "  loss = F.cross_entropy(x, Yb) # loss function\n",
        "\n",
        "  # backward pass\n",
        "  for layer in layers:\n",
        "    layer.out.retain_grad() # AFTER_DEBUG: would take out retain_graph\n",
        "  for p in parameters:\n",
        "    p.grad = None\n",
        "  loss.backward()\n",
        "\n",
        "  # update\n",
        "  lr = 0.1 if i < 10000 else 0.01 # step learning rate decay\n",
        "  for p in parameters:\n",
        "    p.data += -lr * p.grad\n",
        "\n",
        "  # track stats\n",
        "  if i % 10000 == 0: # print every once in a while\n",
        "    print(f'{i:7d}/{max_steps:7d}: {loss.item():.4f}')\n",
        "  lossi.append(loss.log10().item())\n",
        "  with torch.no_grad():\n",
        "    update_to_data_ratio.append([((lr*p.grad).std() / p.data.std()).log10().item() for p in parameters])"
      ]
    },
    {
      "cell_type": "markdown",
      "metadata": {
        "id": "lGQy335GclkX"
      },
      "source": [
        "Weights visualizations"
      ]
    },
    {
      "cell_type": "code",
      "execution_count": 9,
      "metadata": {
        "colab": {
          "base_uri": "https://localhost:8080/",
          "height": 393
        },
        "id": "6IwYP6-4ctqW",
        "outputId": "cfc5d7e4-9371-49f7-f7ef-e02d6356f34c"
      },
      "outputs": [
        {
          "output_type": "stream",
          "name": "stdout",
          "text": [
            "layer 1 (      Tanh): mean +0.00, std 0.00, saturated: 0.00%\n",
            "layer 3 (      Tanh): mean +0.00, std 0.00, saturated: 0.00%\n",
            "layer 5 (      Tanh): mean +0.00, std 0.00, saturated: 0.00%\n",
            "layer 7 (      Tanh): mean +0.00, std 0.00, saturated: 0.00%\n",
            "layer 9 (      Tanh): mean +0.00, std 0.00, saturated: 0.00%\n"
          ]
        },
        {
          "output_type": "execute_result",
          "data": {
            "text/plain": [
              "Text(0.5, 1.0, 'activation distribution')"
            ]
          },
          "metadata": {},
          "execution_count": 9
        },
        {
          "output_type": "display_data",
          "data": {
            "text/plain": [
              "<Figure size 2000x400 with 1 Axes>"
            ],
            "image/png": "[encoded data removed]"
          },
          "metadata": {}
        }
      ],
      "source": [
        "plt.figure(figsize=(20, 4)) # width and height of the plot\n",
        "legends = []\n",
        "for i, layer in enumerate(layers[:-1]): # note: exclude the output layer\n",
        "  if isinstance(layer, Tanh):\n",
        "    t = layer.out\n",
        "    print('layer %d (%10s): mean %+.2f, std %.2f, saturated: %.2f%%' % (i, layer.__class__.__name__, t.mean(), t.std(), (t.abs() > 0.97).float().mean()*100))\n",
        "    hy, hx = torch.histogram(t, density=True)\n",
        "    plt.plot(hx[:-1].detach(), hy.detach())\n",
        "    legends.append(f'layer {i} ({layer.__class__.__name__}')\n",
        "plt.legend(legends);\n",
        "plt.title('activation distribution')"
      ]
    },
    {
      "cell_type": "code",
      "execution_count": 10,
      "metadata": {
        "colab": {
          "base_uri": "https://localhost:8080/",
          "height": 393
        },
        "id": "SnyCSzK4hAfB",
        "outputId": "6aba505a-3b28-451c-b278-f4bb4958b0f5"
      },
      "outputs": [
        {
          "output_type": "stream",
          "name": "stdout",
          "text": [
            "layer 1 (      Tanh): mean +0.000000, std 0.000000e+00\n",
            "layer 3 (      Tanh): mean +0.000000, std 0.000000e+00\n",
            "layer 5 (      Tanh): mean +0.000000, std 0.000000e+00\n",
            "layer 7 (      Tanh): mean +0.000000, std 0.000000e+00\n",
            "layer 9 (      Tanh): mean +0.000000, std 0.000000e+00\n"
          ]
        },
        {
          "output_type": "execute_result",
          "data": {
            "text/plain": [
              "Text(0.5, 1.0, 'gradient distribution')"
            ]
          },
          "metadata": {},
          "execution_count": 10
        },
        {
          "output_type": "display_data",
          "data": {
            "text/plain": [
              "<Figure size 2000x400 with 1 Axes>"
            ],
            "image/png": "[encoded data removed]"
          },
          "metadata": {}
        }
      ],
      "source": [
        "plt.figure(figsize=(20, 4)) # width and height of the plot\n",
        "legends = []\n",
        "for i, layer in enumerate(layers[:-1]): # note: exclude the output layer\n",
        "  if isinstance(layer, Tanh):\n",
        "    t = layer.out.grad\n",
        "    print('layer %d (%10s): mean %+f, std %e' % (i, layer.__class__.__name__, t.mean(), t.std()))\n",
        "    hy, hx = torch.histogram(t, density=True)\n",
        "    plt.plot(hx[:-1].detach(), hy.detach())\n",
        "    legends.append(f'layer {i} ({layer.__class__.__name__}')\n",
        "plt.legend(legends);\n",
        "plt.title('gradient distribution')"
      ]
    },
    {
      "cell_type": "code",
      "execution_count": 11,
      "metadata": {
        "colab": {
          "base_uri": "https://localhost:8080/",
          "height": 448
        },
        "id": "z8CrL5fHdnpp",
        "outputId": "99cd29a8-9af6-44a5-e348-f573bd2bc422"
      },
      "outputs": [
        {
          "output_type": "stream",
          "name": "stdout",
          "text": [
            "weight shape (27, 10) | mean 0.00000 | std 0.00000 | grad:data ratio nan\n",
            "weight shape (30, 100) | mean 0.00000 | std 0.00000 | grad:data ratio nan\n",
            "weight shape (100, 100) | mean 0.00000 | std 0.00000 | grad:data ratio nan\n",
            "weight shape (100, 100) | mean 0.00000 | std 0.00000 | grad:data ratio nan\n",
            "weight shape (100, 100) | mean 0.00000 | std 0.00000 | grad:data ratio nan\n",
            "weight shape (100, 100) | mean 0.00000 | std 0.00000 | grad:data ratio nan\n",
            "weight shape (100, 27) | mean 0.00000 | std 0.00000 | grad:data ratio nan\n",
            "last layer weight shape (27,) | mean 0.00000 | std 0.04826 | grad:data ratio 3.95e-02\n"
          ]
        },
        {
          "output_type": "execute_result",
          "data": {
            "text/plain": [
              "Text(0.5, 1.0, 'Weights Gradient distribution')"
            ]
          },
          "metadata": {},
          "execution_count": 11
        },
        {
          "output_type": "display_data",
          "data": {
            "text/plain": [
              "<Figure size 2000x400 with 1 Axes>"
            ],
            "image/png": "[encoded data removed]"
          },
          "metadata": {}
        }
      ],
      "source": [
        "plt.figure(figsize=(20, 4))\n",
        "legends = []\n",
        "\n",
        "for i, p in enumerate(parameters):\n",
        "  t = p.grad\n",
        "\n",
        "  # neglect bias and batch norm parameters (weights only)\n",
        "  if p.ndim == 2:\n",
        "      print(f\"weight shape {tuple(p.shape)} | mean {t.mean().item():.5f} | std {t.std().item():.5f} | grad:data ratio {t.std() / p.std():.2e}\")\n",
        "      hy, hx = torch.histogram(t, density=True)\n",
        "      plt.plot(hx[:-1].detach(), hy.detach())\n",
        "\n",
        "      legends.append(f\"weight {i} ({p.shape})\")\n",
        "\n",
        "  if i == len(parameters) - 1:\n",
        "      print(f\"last layer weight shape {tuple(p.shape)} | mean {t.mean().item():.5f} | std {t.std().item():.5f} | grad:data ratio {t.std() / p.std():.2e}\")\n",
        "      hy, hx = torch.histogram(t, density=True)\n",
        "      plt.plot(hx[:-1].detach(), hy.detach())\n",
        "\n",
        "      legends.append(f\"last layer: weight {i} ({p.shape})\")\n",
        "\n",
        "plt.legend(legends)\n",
        "plt.title(\"Weights Gradient distribution\")\n",
        "\n"
      ]
    },
    {
      "cell_type": "markdown",
      "metadata": {
        "id": "Ge7LcKdfhTrx"
      },
      "source": [
        "All the layers have 0 weights and biases, besides the last layer, which still has weights to 0 but its biases have somehow learned."
      ]
    },
    {
      "cell_type": "markdown",
      "metadata": {
        "id": "tGZ0tT2L_6BY"
      },
      "source": [
        "E02: BatchNorm, unlike other normalization layers like LayerNorm/GroupNorm etc. has the big advantage that after training, the batchnorm gamma/beta can be \"folded into\" the weights of the preceeding Linear layers, effectively erasing the need to forward it at test time. Set up a small 3-layer MLP with batchnorms, train the network, then \"fold\" the batchnorm gamma/beta into the preceeding Linear layer's W,b by creating a new W2, b2 and erasing the batch norm. Verify that this gives the same forward pass during inference. i.e. we see that the batchnorm is there just for stabilizing the training, and can be thrown out after training is done! pretty cool."
      ]
    },
    {
      "cell_type": "markdown",
      "source": [
        "BatchNorm summary:\n",
        "\n",
        "BatchNorm normalizes the inputs of each layer so that they have mean 0 and standard deviation of 1 (within a mini batch of data during training), in a 2 step process:\n",
        "\n",
        "- Normalizing the batch by substracting its mean and dividing it by its standard deviation\n",
        "- Scaling and shifting it by two learnable parameters called gamma and beta\n",
        "\n",
        "At inference time, it is not necessary and can be removed from the network, this can be achieved by 'folding' it into the preceding linear layer (combining the weights and biases of the linear layer with the gamma and beta of the BatchNorm layer). Check the maths after it in [BatchNormalizationFolding](https://medium.com/data-science/speed-up-inference-with-batch-normalization-folding-8a45a83a89d8)."
      ],
      "metadata": {
        "id": "2hrqORHTV0Sa"
      }
    },
    {
      "cell_type": "code",
      "execution_count": 16,
      "metadata": {
        "id": "A11PfB7AhtJA"
      },
      "outputs": [],
      "source": [
        "gain = 3/5 # Tanh, check torch.nn.init documentation\n",
        "last_layer_confidence = 0.1\n",
        "\n",
        "using_batch_norm = True\n",
        "div_by_fan_in = True"
      ]
    },
    {
      "cell_type": "code",
      "source": [
        "class Linear:\n",
        "\n",
        "  def __init__(self, fan_in, fan_out, bias=True):\n",
        "    self.weight = torch.randn((fan_in, fan_out), generator=g)\n",
        "    if div_by_fan_in:\n",
        "      self.weight = self.weight / fan_in**0.5\n",
        "    self.bias = torch.zeros(fan_out) if bias else None\n",
        "\n",
        "  def __call__(self, x):\n",
        "    self.out = x @ self.weight\n",
        "    if self.bias is not None:\n",
        "      self.out += self.bias\n",
        "    return self.out\n",
        "\n",
        "  def parameters(self):\n",
        "    return [self.weight] + ([] if self.bias is None else [self.bias])"
      ],
      "metadata": {
        "id": "zOrS9IbFYxKy"
      },
      "execution_count": 17,
      "outputs": []
    },
    {
      "cell_type": "code",
      "source": [
        "class BatchNorm1d:\n",
        "\n",
        "  def __init__(self, dim, eps=1e-5, momentum=0.1):\n",
        "    self.eps = eps\n",
        "    self.momentum = momentum\n",
        "    self.training = True\n",
        "    # parameters (trained with backprop)\n",
        "    self.gamma = torch.ones(dim)\n",
        "    self.beta = torch.zeros(dim)\n",
        "    # buffers (trained with a running 'momentum update')\n",
        "    self.running_mean = torch.zeros(dim)\n",
        "    self.running_var = torch.ones(dim)\n",
        "\n",
        "  def __call__(self, x):\n",
        "    # calculate the forward pass\n",
        "    if self.training:\n",
        "      xmean = x.mean(0, keepdim=True) # batch mean\n",
        "      xvar = x.var(0, keepdim=True) # batch variance\n",
        "    else:\n",
        "      xmean = self.running_mean\n",
        "      xvar = self.running_var\n",
        "    xhat = (x - xmean) / torch.sqrt(xvar + self.eps) # normalize to unit variance\n",
        "    self.out = self.gamma * xhat + self.beta\n",
        "    # update the buffers\n",
        "    if self.training:\n",
        "      with torch.no_grad():\n",
        "        self.running_mean = (1 - self.momentum) * self.running_mean + self.momentum * xmean\n",
        "        self.running_var = (1 - self.momentum) * self.running_var + self.momentum * xvar\n",
        "    return self.out\n",
        "\n",
        "  def parameters(self):\n",
        "    return [self.gamma, self.beta]"
      ],
      "metadata": {
        "id": "NuX9v_WRZDVy"
      },
      "execution_count": 18,
      "outputs": []
    },
    {
      "cell_type": "code",
      "source": [
        "class Tanh:\n",
        "  def __call__(self, x):\n",
        "    self.out = torch.tanh(x)\n",
        "    return self.out\n",
        "  def parameters(self):\n",
        "    return []"
      ],
      "metadata": {
        "id": "SUsFRCYoZRVg"
      },
      "execution_count": 19,
      "outputs": []
    },
    {
      "cell_type": "code",
      "source": [
        "n_embd = 10 # the dimensionality of the character embedding vectors\n",
        "n_hidden = 100 # the number of neurons in the hidden layer of the MLP\n",
        "g = torch.Generator().manual_seed(2147483647) # for reproducibility\n",
        "\n",
        "# Token embedding matrix\n",
        "#C = torch.randn((vocab_size, n_embd),            generator=g)\n",
        "if not using_batch_norm:\n",
        "    layers = [\n",
        "        Linear(n_embd * block_size, n_hidden), Tanh(),\n",
        "        Linear(         n_hidden, n_hidden), Tanh(),\n",
        "        Linear(         n_hidden, n_hidden), Tanh(),\n",
        "        Linear(         n_hidden, n_hidden), Tanh(),\n",
        "        Linear(         n_hidden, n_hidden), Tanh(),\n",
        "        Linear(         n_hidden, vocab_size)\n",
        "    ]\n",
        "if using_batch_norm:\n",
        "    layers = [\n",
        "        Linear(n_embd * block_size, n_hidden, bias = False), BatchNorm1d(n_hidden) ,Tanh(),\n",
        "        Linear(         n_hidden, n_hidden, bias = False), BatchNorm1d(n_hidden) ,Tanh(),\n",
        "        Linear(         n_hidden, vocab_size, bias = False), BatchNorm1d(vocab_size) # you can add it here too\n",
        "    ]\n",
        "\n",
        "with torch.no_grad():\n",
        "    # last layer: make less confident\n",
        "    if not using_batch_norm:\n",
        "        layers[-1].weight *= last_layer_confidence\n",
        "    if using_batch_norm:\n",
        "        layers[-1].gamma *= last_layer_confidence\n",
        "\n",
        "    # other layers: apply gain\n",
        "    for layer in layers[:-1]:\n",
        "        if isinstance(layer, Linear):\n",
        "            # change this gain (default 5/3)\n",
        "            layer.weight *= gain\n",
        "\n",
        "parameters = [C] + [p for layer in layers for p in layer.parameters()]\n",
        "print(sum(p.nelement() for p in parameters)) # number of parameters in total\n",
        "\n",
        "for p in parameters:\n",
        "  p.requires_grad = True"
      ],
      "metadata": {
        "colab": {
          "base_uri": "https://localhost:8080/"
        },
        "id": "JQM4gKC8ZV6R",
        "outputId": "2cfc8ede-8ad0-4f2d-d730-653d55c1549f"
      },
      "execution_count": 20,
      "outputs": [
        {
          "output_type": "stream",
          "name": "stdout",
          "text": [
            "16424\n"
          ]
        }
      ]
    },
    {
      "cell_type": "code",
      "source": [
        "# same optimization as last time\n",
        "max_steps = 200000\n",
        "batch_size = 32\n",
        "lossi = []\n",
        "update_to_data_ratio = []\n",
        "\n",
        "\n",
        "for i in range(max_steps):\n",
        "\n",
        "  # minibatch construct\n",
        "  ix = torch.randint(0, Xtr.shape[0], (batch_size,), generator=g)\n",
        "  Xb, Yb = Xtr[ix], Ytr[ix] # batch X,Y\n",
        "\n",
        "  # forward pass\n",
        "  emb = C[Xb] # embed the characters into vectors\n",
        "  x = emb.view(emb.shape[0], -1) # concatenate the vectors\n",
        "  for layer in layers:\n",
        "    x = layer(x)\n",
        "  loss = F.cross_entropy(x, Yb) # loss function\n",
        "\n",
        "  # backward pass\n",
        "  for layer in layers:\n",
        "    layer.out.retain_grad() # AFTER_DEBUG: would take out retain_graph\n",
        "  for p in parameters:\n",
        "    p.grad = None\n",
        "  loss.backward()\n",
        "\n",
        "  # update\n",
        "  lr = 0.1 if i < 10000 else 0.01 # step learning rate decay\n",
        "  for p in parameters:\n",
        "    p.data += -lr * p.grad\n",
        "\n",
        "  # track stats\n",
        "  if i % 10000 == 0: # print every once in a while\n",
        "    print(f'{i:7d}/{max_steps:7d}: {loss.item():.4f}')\n",
        "\n",
        "  lossi.append(loss.log10().item())\n",
        "\n",
        "  with torch.no_grad():\n",
        "    update_to_data_ratio.append([((lr*p.grad).std() / p.data.std()).log10().item() for p in parameters])"
      ],
      "metadata": {
        "colab": {
          "base_uri": "https://localhost:8080/"
        },
        "id": "9wwRmsKKeT_R",
        "outputId": "f42f702f-d49e-4c7c-f687-2fcd1484dfd4"
      },
      "execution_count": 21,
      "outputs": [
        {
          "output_type": "stream",
          "name": "stdout",
          "text": [
            "      0/ 200000: 3.2958\n",
            "  10000/ 200000: 2.2706\n",
            "  20000/ 200000: 1.8179\n",
            "  30000/ 200000: 2.2288\n",
            "  40000/ 200000: 2.3455\n",
            "  50000/ 200000: 2.2993\n",
            "  60000/ 200000: 2.0547\n",
            "  70000/ 200000: 2.0707\n",
            "  80000/ 200000: 2.3780\n",
            "  90000/ 200000: 2.3806\n",
            " 100000/ 200000: 2.3082\n",
            " 110000/ 200000: 2.3191\n",
            " 120000/ 200000: 2.3484\n",
            " 130000/ 200000: 2.1239\n",
            " 140000/ 200000: 2.1816\n",
            " 150000/ 200000: 2.4362\n",
            " 160000/ 200000: 2.1054\n",
            " 170000/ 200000: 2.7874\n",
            " 180000/ 200000: 2.5118\n",
            " 190000/ 200000: 2.0426\n"
          ]
        }
      ]
    },
    {
      "cell_type": "markdown",
      "source": [
        "Evaluate loss with BatchNorm"
      ],
      "metadata": {
        "id": "cVDIExOsguTj"
      }
    },
    {
      "cell_type": "code",
      "source": [
        "def split_loss(split):\n",
        "  x,y = {\n",
        "    'train': (Xtr, Ytr),\n",
        "    'val': (Xdev,Ydev),\n",
        "    'test': (Xte, Yte),\n",
        "  }[split]\n",
        "\n",
        "  emb = C[x] # (N, block_size, n_embd)\n",
        "  x = emb.view(emb.shape[0], -1) # concat into (N, block_size * n_embd)\n",
        "  for layer in layers:\n",
        "    x = layer(x)\n",
        "  loss = F.cross_entropy(x, y)\n",
        "  print(split, loss.item())\n",
        "\n",
        "for layer in layers:\n",
        "  layer.training = False\n",
        "split_loss('train')\n",
        "split_loss('val')\n",
        "split_loss('test')"
      ],
      "metadata": {
        "colab": {
          "base_uri": "https://localhost:8080/"
        },
        "id": "6mpSBlhbgrGG",
        "outputId": "6a7d175a-e8c2-4e9a-86b0-919700125a5f"
      },
      "execution_count": 23,
      "outputs": [
        {
          "output_type": "stream",
          "name": "stdout",
          "text": [
            "train 2.158442974090576\n",
            "val 2.174389123916626\n",
            "test 2.1771230697631836\n"
          ]
        }
      ]
    },
    {
      "cell_type": "markdown",
      "source": [
        "Evaluate loss with folded BatchNorm to previous Linear Layer"
      ],
      "metadata": {
        "id": "3KEKx0Iuh6-3"
      }
    },
    {
      "cell_type": "code",
      "source": [
        "def split_folded_loss(split):\n",
        "  x,y = {\n",
        "    'train': (Xtr, Ytr),\n",
        "    'val': (Xdev,Ydev),\n",
        "    'test': (Xte, Yte),\n",
        "  }[split]\n",
        "\n",
        "  emb = C[x] # (N, block_size, n_embd)\n",
        "  x = emb.view(emb.shape[0], -1) # concat into (N, block_size * n_embd)\n",
        "\n",
        "  for layer in layers:\n",
        "    if isinstance(layers[layer], Linear): # If linear the one right after is BatchNorm\n",
        "      # l = Linear()\n",
        "      l = Linear(layers[layer].weight.shape[0], layers[layer].weight.shape[1], bias = True)\n",
        "      # l.weight = W * (gamma / sqrt(var + eps))\n",
        "      l.weight = layers[layer].weight * (layers[layer + 1].gamma / torch.sqrt(layers[layer + 1].running_var + layers[layer + 1].eps))\n",
        "\n",
        "      if layers[layer].bias is not None:\n",
        "        # l.bias = (b - mean) * (gamma / sqrt(var + eps)) + beta\n",
        "        l.bias = (layers[layer].bias - layers[layer + 1].running_mean) * (layers[layer + 1].gamma / torch.sqrt(layers[layer + 1].running_var + layers[layer + 1].eps)) + layers[layer + 1].beta\n",
        "\n",
        "      x = l(x)\n",
        "\n",
        "    if isinstance(layers[layer], Tanh):\n",
        "      x = layers[layer](x)\n",
        "\n",
        "  loss = F.cross_entropy(x, y)\n",
        "  print(split, loss.item())\n",
        "\n",
        "for layer in layers:\n",
        "  layer.training = False\n",
        "split_loss('train')\n",
        "split_loss('val')\n",
        "split_loss('test')"
      ],
      "metadata": {
        "colab": {
          "base_uri": "https://localhost:8080/"
        },
        "id": "4ajwJxLSiKUE",
        "outputId": "51b327b6-7158-496a-e642-d95a279be0b3"
      },
      "execution_count": 24,
      "outputs": [
        {
          "output_type": "stream",
          "name": "stdout",
          "text": [
            "train 2.158442974090576\n",
            "val 2.174389123916626\n",
            "test 2.1771230697631836\n"
          ]
        }
      ]
    },
    {
      "cell_type": "markdown",
      "source": [
        "As we can see we obtain the same forward pass once the BatchNormalization layers have been folded into the Linear Layers."
      ],
      "metadata": {
        "id": "u3xnYWcBm-Ue"
      }
    }
  ],
  "metadata": {
    "colab": {
      "provenance": []
    },
    "kernelspec": {
      "display_name": "Python 3",
      "name": "python3"
    },
    "language_info": {
      "name": "python"
    }
  },
  "nbformat": 4,
  "nbformat_minor": 0
}