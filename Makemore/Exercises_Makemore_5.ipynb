{
  "cells": [
    {
      "cell_type": "code",
      "source": [
        "import torch\n",
        "import torch.nn as nn\n",
        "import torch.nn.functional as F\n",
        "import matplotlib.pyplot as plt # for making figures\n",
        "%matplotlib inline"
      ],
      "metadata": {
        "id": "0GZWxRoa9mz4"
      },
      "execution_count": null,
      "outputs": []
    },
    {
      "cell_type": "code",
      "source": [
        "!wget https://raw.githubusercontent.com/karpathy/makemore/master/names.txt"
      ],
      "metadata": {
        "colab": {
          "base_uri": "https://localhost:8080/"
        },
        "id": "LonPFC2U-b9D",
        "outputId": "575ba7cc-22b4-4122-a355-67deb871fb81"
      },
      "execution_count": null,
      "outputs": [
        {
          "output_type": "stream",
          "name": "stdout",
          "text": [
            "--2025-07-07 08:23:31--  https://raw.githubusercontent.com/karpathy/makemore/master/names.txt\n",
            "Resolving raw.githubusercontent.com (raw.githubusercontent.com)... 185.199.108.133, 185.199.109.133, 185.199.110.133, ...\n",
            "Connecting to raw.githubusercontent.com (raw.githubusercontent.com)|185.199.108.133|:443... connected.\n",
            "HTTP request sent, awaiting response... 200 OK\n",
            "Length: 228145 (223K) [text/plain]\n",
            "Saving to: ‘names.txt’\n",
            "\n",
            "\rnames.txt             0%[                    ]       0  --.-KB/s               \rnames.txt           100%[===================>] 222.80K  --.-KB/s    in 0.04s   \n",
            "\n",
            "2025-07-07 08:23:31 (5.86 MB/s) - ‘names.txt’ saved [228145/228145]\n",
            "\n"
          ]
        }
      ]
    },
    {
      "cell_type": "code",
      "source": [
        "# read in all the words\n",
        "words = open('names.txt', 'r').read().splitlines()\n",
        "print(len(words))\n",
        "print(max(len(w) for w in words))\n",
        "print(words[:8])"
      ],
      "metadata": {
        "colab": {
          "base_uri": "https://localhost:8080/"
        },
        "id": "IqtwaoFg-7I9",
        "outputId": "980e4bae-d850-4cf2-9030-4c165cd24564"
      },
      "execution_count": null,
      "outputs": [
        {
          "output_type": "stream",
          "name": "stdout",
          "text": [
            "32033\n",
            "15\n",
            "['emma', 'olivia', 'ava', 'isabella', 'sophia', 'charlotte', 'mia', 'amelia']\n"
          ]
        }
      ]
    },
    {
      "cell_type": "code",
      "source": [
        "# build the vocabulary of characters and mappings to/from integers\n",
        "chars = sorted(list(set(''.join(words))))\n",
        "stoi = {s:i+1 for i,s in enumerate(chars)}\n",
        "stoi['.'] = 0\n",
        "itos = {i:s for s,i in stoi.items()}\n",
        "vocab_size = len(itos)\n",
        "print(itos)\n",
        "print(vocab_size)"
      ],
      "metadata": {
        "colab": {
          "base_uri": "https://localhost:8080/"
        },
        "id": "86aJOXIQ_HaX",
        "outputId": "07d3b09f-6b25-48be-ff69-74735dbd1c31"
      },
      "execution_count": null,
      "outputs": [
        {
          "output_type": "stream",
          "name": "stdout",
          "text": [
            "{1: 'a', 2: 'b', 3: 'c', 4: 'd', 5: 'e', 6: 'f', 7: 'g', 8: 'h', 9: 'i', 10: 'j', 11: 'k', 12: 'l', 13: 'm', 14: 'n', 15: 'o', 16: 'p', 17: 'q', 18: 'r', 19: 's', 20: 't', 21: 'u', 22: 'v', 23: 'w', 24: 'x', 25: 'y', 26: 'z', 0: '.'}\n",
            "27\n"
          ]
        }
      ]
    },
    {
      "cell_type": "code",
      "source": [
        "# build the dataset\n",
        "block_size = 8 # context length: how many characters do we take to predict the next one?\n",
        "\n",
        "def build_dataset(words):\n",
        "  X, Y = [], []\n",
        "\n",
        "  for w in words:\n",
        "    context = [0] * block_size\n",
        "    for ch in w + '.':\n",
        "      ix = stoi[ch]\n",
        "      X.append(context)\n",
        "      Y.append(ix)\n",
        "      context = context[1:] + [ix] # crop and append\n",
        "\n",
        "  X = torch.tensor(X)\n",
        "  Y = torch.tensor(Y)\n",
        "  print(X.shape, Y.shape)\n",
        "  return X, Y\n",
        "\n",
        "import random\n",
        "random.seed(42)\n",
        "random.shuffle(words)\n",
        "n1 = int(0.8*len(words))\n",
        "n2 = int(0.9*len(words))\n",
        "\n",
        "Xtr,  Ytr  = build_dataset(words[:n1])     # 80%\n",
        "Xdev, Ydev = build_dataset(words[n1:n2])   # 10%\n",
        "Xte,  Yte  = build_dataset(words[n2:])     # 10%"
      ],
      "metadata": {
        "colab": {
          "base_uri": "https://localhost:8080/"
        },
        "id": "61nh26YA_KcM",
        "outputId": "0a3953d0-a7d9-428d-f902-19e815058d6b"
      },
      "execution_count": null,
      "outputs": [
        {
          "output_type": "stream",
          "name": "stdout",
          "text": [
            "torch.Size([182625, 8]) torch.Size([182625])\n",
            "torch.Size([22655, 8]) torch.Size([22655])\n",
            "torch.Size([22866, 8]) torch.Size([22866])\n"
          ]
        }
      ]
    },
    {
      "cell_type": "code",
      "source": [
        "for x,y in zip(Xtr[:20], Ytr[:20]):\n",
        "  print(''.join(itos[ix.item()] for ix in x), '-->', itos[y.item()])"
      ],
      "metadata": {
        "colab": {
          "base_uri": "https://localhost:8080/"
        },
        "id": "QDKLJAYE_7KE",
        "outputId": "78f698a8-b087-4b90-d176-c44784855a61"
      },
      "execution_count": null,
      "outputs": [
        {
          "output_type": "stream",
          "name": "stdout",
          "text": [
            "........ --> y\n",
            ".......y --> u\n",
            "......yu --> h\n",
            ".....yuh --> e\n",
            "....yuhe --> n\n",
            "...yuhen --> g\n",
            "..yuheng --> .\n",
            "........ --> d\n",
            ".......d --> i\n",
            "......di --> o\n",
            ".....dio --> n\n",
            "....dion --> d\n",
            "...diond --> r\n",
            "..diondr --> e\n",
            ".diondre --> .\n",
            "........ --> x\n",
            ".......x --> a\n",
            "......xa --> v\n",
            ".....xav --> i\n",
            "....xavi --> e\n"
          ]
        }
      ]
    },
    {
      "cell_type": "code",
      "source": [
        "# evaluate the loss\n",
        "@torch.no_grad() # this decorator disables gradient tracking inside pytorch\n",
        "def split_loss(split, model):\n",
        "  x,y = {\n",
        "    'train': (Xtr, Ytr),\n",
        "    'val': (Xdev, Ydev),\n",
        "    'test': (Xte, Yte),\n",
        "  }[split]\n",
        "  logits = model(x)\n",
        "  loss = F.cross_entropy(logits, y)\n",
        "  print(split, loss.item())\n",
        "  return loss.item() # Return the loss value"
      ],
      "metadata": {
        "id": "KbTGca7pAJHQ"
      },
      "execution_count": null,
      "outputs": []
    },
    {
      "cell_type": "code",
      "source": [
        "def sample(model):\n",
        "  for _ in range(20):\n",
        "\n",
        "    out = []\n",
        "    context = [0] * block_size # initialize with all ...\n",
        "    while True:\n",
        "      # forward pass the neural net\n",
        "      logits = model(torch.tensor([context]))\n",
        "      probs = F.softmax(logits, dim=1)\n",
        "      # sample from the distribution\n",
        "      ix = torch.multinomial(probs, num_samples=1).item()\n",
        "      # shift the context window and track the samples\n",
        "      context = context[1:] + [ix]\n",
        "      out.append(ix)\n",
        "      # if we sample the special '.' token, break\n",
        "      if ix == 0:\n",
        "        break\n",
        "\n",
        "    print(''.join(itos[i] for i in out)) # decode and print the generated word"
      ],
      "metadata": {
        "id": "mYIZL_GdAdcS"
      },
      "execution_count": null,
      "outputs": []
    },
    {
      "cell_type": "markdown",
      "source": [
        "E01: using torch.nn module instead of custom classes\n",
        "BatchNorm removed since I was not able to make them work."
      ],
      "metadata": {
        "id": "pUabSlaH9r6q"
      }
    },
    {
      "cell_type": "code",
      "source": [
        "import torch.nn.init as init\n",
        "\n",
        "class Model(torch.nn.Module):\n",
        "  def __init__(self, vocab_size, n_embd, n_hidden):\n",
        "    super(Model, self).__init__()\n",
        "\n",
        "    self.embed = torch.nn.Embedding(vocab_size, n_embd)\n",
        "    self.tanh = torch.nn.Tanh()\n",
        "\n",
        "    # In torch.nn.BatchNorm1d input is (N,C,L) and not (N,L,C) as in the lecture\n",
        "    self.batchNorm1 = torch.nn.BatchNorm1d(n_hidden)\n",
        "    self.batchNorm2 = torch.nn.BatchNorm1d(n_hidden)\n",
        "    self.batchNorm3 = torch.nn.BatchNorm1d(n_hidden)\n",
        "\n",
        "    self.fully_connected1 = torch.nn.Linear(n_embd * 2, n_hidden, bias=False)\n",
        "    init.kaiming_normal_(self.fully_connected1.weight, mode='fan_in', nonlinearity='tanh')\n",
        "    self.fully_connected2 = torch.nn.Linear(n_hidden * 2, n_hidden, bias=False)\n",
        "    init.kaiming_normal_(self.fully_connected2.weight, mode='fan_in', nonlinearity='tanh')\n",
        "    self.fully_connected3 = torch.nn.Linear(n_hidden * 2, n_hidden, bias=False)\n",
        "    init.kaiming_normal_(self.fully_connected3.weight, mode='fan_in', nonlinearity='tanh')\n",
        "    self.fully_connected4 = torch.nn.Linear(n_hidden, vocab_size, bias=False)\n",
        "\n",
        "  def flatten_consecutive(self, x):\n",
        "    B, T, C = x.shape\n",
        "    # swap 2nd and 3rd dimensions\n",
        "    x = x.reshape(B, T // 2, C * 2)\n",
        "    if x.shape[1] == 1:\n",
        "      x = x.squeeze(1)\n",
        "    return x\n",
        "\n",
        "  def forward(self, x):\n",
        "\n",
        "    # Embedding\n",
        "    x = self.embed(x)\n",
        "\n",
        "    # Block 1\n",
        "    x = self.flatten_consecutive(x)\n",
        "    x = self.fully_connected1(x)\n",
        "    #x = x.permute(0, 2, 1)\n",
        "    #x = self.batchNorm1(x)\n",
        "    #x = x.permute(0, 2, 1)\n",
        "    x = self.tanh(x)\n",
        "\n",
        "    # Block 2\n",
        "    x = self.flatten_consecutive(x)\n",
        "    x = self.fully_connected2(x)\n",
        "    #x = x.permute(0, 2, 1)\n",
        "    #x = self.batchNorm2(x)\n",
        "    #x = x.permute(0, 2, 1)\n",
        "    x = self.tanh(x)\n",
        "\n",
        "    # Block 3\n",
        "    x = self.flatten_consecutive(x)\n",
        "    x = self.fully_connected3(x)\n",
        "    #x = x.permute(0, 2, 1)\n",
        "    #x = self.batchNorm3(x)\n",
        "    #x = x.permute(0, 2, 1)\n",
        "    x = self.tanh(x)\n",
        "\n",
        "    # Block 4\n",
        "    x = self.fully_connected4(x)\n",
        "\n",
        "    return x"
      ],
      "metadata": {
        "id": "wvyH-rhiA6b4"
      },
      "execution_count": null,
      "outputs": []
    },
    {
      "cell_type": "markdown",
      "source": [
        "E02: Beat the 1.993 validation loss"
      ],
      "metadata": {
        "id": "rOM5MfHDQMul"
      }
    },
    {
      "cell_type": "code",
      "source": [
        "n_embed = 32\n",
        "n_hidden = 256\n",
        "\n",
        "model = Model(vocab_size, n_embed, n_hidden)\n",
        "model(Xtr[:10]); # Sanity check"
      ],
      "metadata": {
        "id": "CRLizUmPR6xb"
      },
      "execution_count": null,
      "outputs": []
    },
    {
      "cell_type": "code",
      "source": [
        "optimizer = torch.optim.SGD(model.parameters(), lr=0.01)\n",
        "scheduler = torch.optim.lr_scheduler.ReduceLROnPlateau(optimizer, mode='min', factor=0.5, patience=5, verbose=True)\n",
        "train_losses = []\n",
        "dev_losses = []\n",
        "\n",
        "for epoch in range(100):\n",
        "    model.train()\n",
        "\n",
        "    for i in range(0, len(Xtr), 64):\n",
        "        x = Xtr[i:i+64]\n",
        "        y = Ytr[i:i+64]\n",
        "\n",
        "        logits = model(x)\n",
        "        loss = F.cross_entropy(logits, y)\n",
        "\n",
        "        optimizer.zero_grad()\n",
        "        loss.backward()\n",
        "        optimizer.step()\n",
        "\n",
        "    model.eval()\n",
        "    train_loss = split_loss('train', model)\n",
        "    dev_loss = split_loss('val', model)\n",
        "    train_losses.append(train_loss)\n",
        "    dev_losses.append(dev_loss)\n",
        "\n",
        "    scheduler.step(dev_loss)\n",
        "\n",
        "    print(f\"epoch : {epoch} train_loss : {train_loss} dev_loss : {dev_loss}\")"
      ],
      "metadata": {
        "colab": {
          "base_uri": "https://localhost:8080/"
        },
        "id": "XvWeV6uMW2W-",
        "outputId": "cb68b8a1-3bc7-46ca-d106-570f8afd90e4"
      },
      "execution_count": null,
      "outputs": [
        {
          "output_type": "stream",
          "name": "stdout",
          "text": [
            "train 2.1088225841522217\n",
            "val 2.1316871643066406\n",
            "epoch : 0 train_loss : 2.1088225841522217 dev_loss : 2.1316871643066406\n",
            "train 2.0832934379577637\n",
            "val 2.1122772693634033\n",
            "epoch : 1 train_loss : 2.0832934379577637 dev_loss : 2.1122772693634033\n",
            "train 2.0620555877685547\n",
            "val 2.0968916416168213\n",
            "epoch : 2 train_loss : 2.0620555877685547 dev_loss : 2.0968916416168213\n",
            "train 2.043644666671753\n",
            "val 2.084162712097168\n",
            "epoch : 3 train_loss : 2.043644666671753 dev_loss : 2.084162712097168\n",
            "train 2.027245283126831\n",
            "val 2.0733542442321777\n",
            "epoch : 4 train_loss : 2.027245283126831 dev_loss : 2.0733542442321777\n",
            "train 2.0123674869537354\n",
            "val 2.0640370845794678\n",
            "epoch : 5 train_loss : 2.0123674869537354 dev_loss : 2.0640370845794678\n",
            "train 1.9986984729766846\n",
            "val 2.055936098098755\n",
            "epoch : 6 train_loss : 1.9986984729766846 dev_loss : 2.055936098098755\n",
            "train 1.986025333404541\n",
            "val 2.048849582672119\n",
            "epoch : 7 train_loss : 1.986025333404541 dev_loss : 2.048849582672119\n",
            "train 1.9741960763931274\n",
            "val 2.042625904083252\n",
            "epoch : 8 train_loss : 1.9741960763931274 dev_loss : 2.042625904083252\n",
            "train 1.9630992412567139\n",
            "val 2.0371482372283936\n",
            "epoch : 9 train_loss : 1.9630992412567139 dev_loss : 2.0371482372283936\n",
            "train 1.9526481628417969\n",
            "val 2.032322883605957\n",
            "epoch : 10 train_loss : 1.9526481628417969 dev_loss : 2.032322883605957\n",
            "train 1.942769169807434\n",
            "val 2.0280673503875732\n",
            "epoch : 11 train_loss : 1.942769169807434 dev_loss : 2.0280673503875732\n",
            "train 1.9333992004394531\n",
            "val 2.0243098735809326\n",
            "epoch : 12 train_loss : 1.9333992004394531 dev_loss : 2.0243098735809326\n",
            "train 1.924481987953186\n",
            "val 2.020986795425415\n",
            "epoch : 13 train_loss : 1.924481987953186 dev_loss : 2.020986795425415\n",
            "train 1.9159681797027588\n",
            "val 2.018043279647827\n",
            "epoch : 14 train_loss : 1.9159681797027588 dev_loss : 2.018043279647827\n",
            "train 1.9078153371810913\n",
            "val 2.0154337882995605\n",
            "epoch : 15 train_loss : 1.9078153371810913 dev_loss : 2.0154337882995605\n",
            "train 1.8999888896942139\n",
            "val 2.0131218433380127\n",
            "epoch : 16 train_loss : 1.8999888896942139 dev_loss : 2.0131218433380127\n",
            "train 1.8924591541290283\n",
            "val 2.011077404022217\n",
            "epoch : 17 train_loss : 1.8924591541290283 dev_loss : 2.011077404022217\n",
            "train 1.8852014541625977\n",
            "val 2.0092766284942627\n",
            "epoch : 18 train_loss : 1.8852014541625977 dev_loss : 2.0092766284942627\n",
            "train 1.8781945705413818\n",
            "val 2.0076987743377686\n",
            "epoch : 19 train_loss : 1.8781945705413818 dev_loss : 2.0076987743377686\n",
            "train 1.8714207410812378\n",
            "val 2.006326675415039\n",
            "epoch : 20 train_loss : 1.8714207410812378 dev_loss : 2.006326675415039\n",
            "train 1.8648641109466553\n",
            "val 2.0051441192626953\n",
            "epoch : 21 train_loss : 1.8648641109466553 dev_loss : 2.0051441192626953\n",
            "train 1.8585097789764404\n",
            "val 2.0041351318359375\n",
            "epoch : 22 train_loss : 1.8585097789764404 dev_loss : 2.0041351318359375\n",
            "train 1.8523427248001099\n",
            "val 2.0032827854156494\n",
            "epoch : 23 train_loss : 1.8523427248001099 dev_loss : 2.0032827854156494\n",
            "train 1.8463495969772339\n",
            "val 2.002573013305664\n",
            "epoch : 24 train_loss : 1.8463495969772339 dev_loss : 2.002573013305664\n",
            "train 1.840525507926941\n",
            "val 2.002007007598877\n",
            "epoch : 25 train_loss : 1.840525507926941 dev_loss : 2.002007007598877\n",
            "train 1.8348641395568848\n",
            "val 2.0015857219696045\n",
            "epoch : 26 train_loss : 1.8348641395568848 dev_loss : 2.0015857219696045\n",
            "train 1.8293565511703491\n",
            "val 2.0013012886047363\n",
            "epoch : 27 train_loss : 1.8293565511703491 dev_loss : 2.0013012886047363\n",
            "train 1.823994517326355\n",
            "val 2.0011465549468994\n",
            "epoch : 28 train_loss : 1.823994517326355 dev_loss : 2.0011465549468994\n",
            "train 1.8187694549560547\n",
            "val 2.0011146068573\n",
            "epoch : 29 train_loss : 1.8187694549560547 dev_loss : 2.0011146068573\n",
            "train 1.8136742115020752\n",
            "val 2.0011980533599854\n",
            "epoch : 30 train_loss : 1.8136742115020752 dev_loss : 2.0011980533599854\n",
            "train 1.8087010383605957\n",
            "val 2.0013911724090576\n",
            "epoch : 31 train_loss : 1.8087010383605957 dev_loss : 2.0013911724090576\n",
            "train 1.8038431406021118\n",
            "val 2.0016868114471436\n",
            "epoch : 32 train_loss : 1.8038431406021118 dev_loss : 2.0016868114471436\n",
            "train 1.7990937232971191\n",
            "val 2.002080202102661\n",
            "epoch : 33 train_loss : 1.7990937232971191 dev_loss : 2.002080202102661\n",
            "train 1.7837378978729248\n",
            "val 1.9914218187332153\n",
            "epoch : 34 train_loss : 1.7837378978729248 dev_loss : 1.9914218187332153\n",
            "train 1.7806743383407593\n",
            "val 1.991774559020996\n",
            "epoch : 35 train_loss : 1.7806743383407593 dev_loss : 1.991774559020996\n",
            "train 1.7778879404067993\n",
            "val 1.9922817945480347\n",
            "epoch : 36 train_loss : 1.7778879404067993 dev_loss : 1.9922817945480347\n",
            "train 1.7752093076705933\n",
            "val 1.9928264617919922\n",
            "epoch : 37 train_loss : 1.7752093076705933 dev_loss : 1.9928264617919922\n",
            "train 1.772598385810852\n",
            "val 1.9933855533599854\n",
            "epoch : 38 train_loss : 1.772598385810852 dev_loss : 1.9933855533599854\n",
            "train 1.7700384855270386\n",
            "val 1.9939534664154053\n",
            "epoch : 39 train_loss : 1.7700384855270386 dev_loss : 1.9939534664154053\n",
            "train 1.7675212621688843\n",
            "val 1.994529366493225\n",
            "epoch : 40 train_loss : 1.7675212621688843 dev_loss : 1.994529366493225\n",
            "train 1.7591432332992554\n",
            "val 1.9887319803237915\n",
            "epoch : 41 train_loss : 1.7591432332992554 dev_loss : 1.9887319803237915\n",
            "train 1.7575312852859497\n",
            "val 1.9889657497406006\n",
            "epoch : 42 train_loss : 1.7575312852859497 dev_loss : 1.9889657497406006\n",
            "train 1.7560827732086182\n",
            "val 1.9892935752868652\n",
            "epoch : 43 train_loss : 1.7560827732086182 dev_loss : 1.9892935752868652\n",
            "train 1.7546852827072144\n",
            "val 1.9896436929702759\n",
            "epoch : 44 train_loss : 1.7546852827072144 dev_loss : 1.9896436929702759\n",
            "train 1.7533156871795654\n",
            "val 1.9900037050247192\n",
            "epoch : 45 train_loss : 1.7533156871795654 dev_loss : 1.9900037050247192\n",
            "train 1.7519656419754028\n",
            "val 1.9903678894042969\n",
            "epoch : 46 train_loss : 1.7519656419754028 dev_loss : 1.9903678894042969\n",
            "train 1.7506310939788818\n",
            "val 1.9907341003417969\n",
            "epoch : 47 train_loss : 1.7506310939788818 dev_loss : 1.9907341003417969\n",
            "train 1.7466374635696411\n",
            "val 1.9881633520126343\n",
            "epoch : 48 train_loss : 1.7466374635696411 dev_loss : 1.9881633520126343\n",
            "train 1.7457867860794067\n",
            "val 1.98828125\n",
            "epoch : 49 train_loss : 1.7457867860794067 dev_loss : 1.98828125\n",
            "train 1.745039701461792\n",
            "val 1.9884655475616455\n",
            "epoch : 50 train_loss : 1.745039701461792 dev_loss : 1.9884655475616455\n",
            "train 1.744320273399353\n",
            "val 1.9886609315872192\n",
            "epoch : 51 train_loss : 1.744320273399353 dev_loss : 1.9886609315872192\n",
            "train 1.7436139583587646\n",
            "val 1.9888595342636108\n",
            "epoch : 52 train_loss : 1.7436139583587646 dev_loss : 1.9888595342636108\n",
            "train 1.7429155111312866\n",
            "val 1.989060401916504\n",
            "epoch : 53 train_loss : 1.7429155111312866 dev_loss : 1.989060401916504\n",
            "train 1.7422229051589966\n",
            "val 1.9892622232437134\n",
            "epoch : 54 train_loss : 1.7422229051589966 dev_loss : 1.9892622232437134\n",
            "train 1.7404929399490356\n",
            "val 1.9884138107299805\n",
            "epoch : 55 train_loss : 1.7404929399490356 dev_loss : 1.9884138107299805\n",
            "train 1.7400543689727783\n",
            "val 1.9884779453277588\n",
            "epoch : 56 train_loss : 1.7400543689727783 dev_loss : 1.9884779453277588\n",
            "train 1.7396719455718994\n",
            "val 1.9885778427124023\n",
            "epoch : 57 train_loss : 1.7396719455718994 dev_loss : 1.9885778427124023\n",
            "train 1.7393054962158203\n",
            "val 1.988684058189392\n",
            "epoch : 58 train_loss : 1.7393054962158203 dev_loss : 1.988684058189392\n",
            "train 1.7389456033706665\n",
            "val 1.988791823387146\n",
            "epoch : 59 train_loss : 1.7389456033706665 dev_loss : 1.988791823387146\n",
            "train 1.738589882850647\n",
            "val 1.9889003038406372\n",
            "epoch : 60 train_loss : 1.738589882850647 dev_loss : 1.9889003038406372\n",
            "train 1.7378979921340942\n",
            "val 1.9886361360549927\n",
            "epoch : 61 train_loss : 1.7378979921340942 dev_loss : 1.9886361360549927\n",
            "train 1.7376772165298462\n",
            "val 1.9886759519577026\n",
            "epoch : 62 train_loss : 1.7376772165298462 dev_loss : 1.9886759519577026\n",
            "train 1.7374825477600098\n",
            "val 1.9887309074401855\n",
            "epoch : 63 train_loss : 1.7374825477600098 dev_loss : 1.9887309074401855\n",
            "train 1.737296223640442\n",
            "val 1.9887880086898804\n",
            "epoch : 64 train_loss : 1.737296223640442 dev_loss : 1.9887880086898804\n",
            "train 1.7371134757995605\n",
            "val 1.988845944404602\n",
            "epoch : 65 train_loss : 1.7371134757995605 dev_loss : 1.988845944404602\n",
            "train 1.7369327545166016\n",
            "val 1.988903522491455\n",
            "epoch : 66 train_loss : 1.7369327545166016 dev_loss : 1.988903522491455\n",
            "train 1.7366642951965332\n",
            "val 1.9887304306030273\n",
            "epoch : 67 train_loss : 1.7366642951965332 dev_loss : 1.9887304306030273\n",
            "train 1.736555814743042\n",
            "val 1.9887535572052002\n",
            "epoch : 68 train_loss : 1.736555814743042 dev_loss : 1.9887535572052002\n",
            "train 1.7364580631256104\n",
            "val 1.9887828826904297\n",
            "epoch : 69 train_loss : 1.7364580631256104 dev_loss : 1.9887828826904297\n",
            "train 1.7363641262054443\n",
            "val 1.9888134002685547\n",
            "epoch : 70 train_loss : 1.7363641262054443 dev_loss : 1.9888134002685547\n",
            "train 1.736271858215332\n",
            "val 1.9888441562652588\n",
            "epoch : 71 train_loss : 1.736271858215332 dev_loss : 1.9888441562652588\n",
            "train 1.7361806631088257\n",
            "val 1.9888746738433838\n",
            "epoch : 72 train_loss : 1.7361806631088257 dev_loss : 1.9888746738433838\n",
            "train 1.7360694408416748\n",
            "val 1.988755464553833\n",
            "epoch : 73 train_loss : 1.7360694408416748 dev_loss : 1.988755464553833\n",
            "train 1.736017107963562\n",
            "val 1.9887652397155762\n",
            "epoch : 74 train_loss : 1.736017107963562 dev_loss : 1.9887652397155762\n",
            "train 1.735968828201294\n",
            "val 1.9887802600860596\n",
            "epoch : 75 train_loss : 1.735968828201294 dev_loss : 1.9887802600860596\n",
            "train 1.735921859741211\n",
            "val 1.9887962341308594\n",
            "epoch : 76 train_loss : 1.735921859741211 dev_loss : 1.9887962341308594\n",
            "train 1.7358754873275757\n",
            "val 1.9888123273849487\n",
            "epoch : 77 train_loss : 1.7358754873275757 dev_loss : 1.9888123273849487\n",
            "train 1.7358295917510986\n",
            "val 1.9888283014297485\n",
            "epoch : 78 train_loss : 1.7358295917510986 dev_loss : 1.9888283014297485\n",
            "train 1.7357844114303589\n",
            "val 1.9887876510620117\n",
            "epoch : 79 train_loss : 1.7357844114303589 dev_loss : 1.9887876510620117\n",
            "train 1.7357587814331055\n",
            "val 1.988788366317749\n",
            "epoch : 80 train_loss : 1.7357587814331055 dev_loss : 1.988788366317749\n",
            "train 1.7357348203659058\n",
            "val 1.988795280456543\n",
            "epoch : 81 train_loss : 1.7357348203659058 dev_loss : 1.988795280456543\n",
            "train 1.7357113361358643\n",
            "val 1.9888031482696533\n",
            "epoch : 82 train_loss : 1.7357113361358643 dev_loss : 1.9888031482696533\n",
            "train 1.7356882095336914\n",
            "val 1.9888112545013428\n",
            "epoch : 83 train_loss : 1.7356882095336914 dev_loss : 1.9888112545013428\n",
            "train 1.7356653213500977\n",
            "val 1.9888195991516113\n",
            "epoch : 84 train_loss : 1.7356653213500977 dev_loss : 1.9888195991516113\n",
            "train 1.7356475591659546\n",
            "val 1.988816261291504\n",
            "epoch : 85 train_loss : 1.7356475591659546 dev_loss : 1.988816261291504\n",
            "train 1.735634684562683\n",
            "val 1.9888169765472412\n",
            "epoch : 86 train_loss : 1.735634684562683 dev_loss : 1.9888169765472412\n",
            "train 1.7356226444244385\n",
            "val 1.9888197183609009\n",
            "epoch : 87 train_loss : 1.7356226444244385 dev_loss : 1.9888197183609009\n",
            "train 1.735610842704773\n",
            "val 1.9888231754302979\n",
            "epoch : 88 train_loss : 1.735610842704773 dev_loss : 1.9888231754302979\n",
            "train 1.735599398612976\n",
            "val 1.9888273477554321\n",
            "epoch : 89 train_loss : 1.735599398612976 dev_loss : 1.9888273477554321\n",
            "train 1.7355879545211792\n",
            "val 1.988831639289856\n",
            "epoch : 90 train_loss : 1.7355879545211792 dev_loss : 1.988831639289856\n",
            "train 1.7355809211730957\n",
            "val 1.9888336658477783\n",
            "epoch : 91 train_loss : 1.7355809211730957 dev_loss : 1.9888336658477783\n",
            "train 1.735574722290039\n",
            "val 1.9888354539871216\n",
            "epoch : 92 train_loss : 1.735574722290039 dev_loss : 1.9888354539871216\n",
            "train 1.735568642616272\n",
            "val 1.9888373613357544\n",
            "epoch : 93 train_loss : 1.735568642616272 dev_loss : 1.9888373613357544\n",
            "train 1.735562801361084\n",
            "val 1.9888389110565186\n",
            "epoch : 94 train_loss : 1.735562801361084 dev_loss : 1.9888389110565186\n",
            "train 1.735557198524475\n",
            "val 1.988840937614441\n",
            "epoch : 95 train_loss : 1.735557198524475 dev_loss : 1.988840937614441\n",
            "train 1.735551118850708\n",
            "val 1.9888429641723633\n",
            "epoch : 96 train_loss : 1.735551118850708 dev_loss : 1.9888429641723633\n",
            "train 1.7355482578277588\n",
            "val 1.9888441562652588\n",
            "epoch : 97 train_loss : 1.7355482578277588 dev_loss : 1.9888441562652588\n",
            "train 1.7355453968048096\n",
            "val 1.9888454675674438\n",
            "epoch : 98 train_loss : 1.7355453968048096 dev_loss : 1.9888454675674438\n",
            "train 1.7355422973632812\n",
            "val 1.9888463020324707\n",
            "epoch : 99 train_loss : 1.7355422973632812 dev_loss : 1.9888463020324707\n"
          ]
        }
      ]
    },
    {
      "cell_type": "code",
      "source": [
        "# plot train and dev losses\n",
        "plt.plot(train_losses, label = 'train')\n",
        "plt.plot(dev_losses, label = 'dev')\n",
        "\n",
        "plt.xlabel('epoch')\n",
        "plt.ylabel('loss')\n",
        "\n",
        "plt.legend()"
      ],
      "metadata": {
        "colab": {
          "base_uri": "https://localhost:8080/",
          "height": 472
        },
        "id": "qWg2SESOX7Lc",
        "outputId": "787b200b-741c-4199-f47a-c2639a1d856a"
      },
      "execution_count": null,
      "outputs": [
        {
          "output_type": "execute_result",
          "data": {
            "text/plain": [
              "<matplotlib.legend.Legend at 0x7980e1729a90>"
            ]
          },
          "metadata": {},
          "execution_count": 56
        },
        {
          "output_type": "display_data",
          "data": {
            "text/plain": [
              "<Figure size 640x480 with 1 Axes>"
            ],
            "image/png": "[encoded data removed]"
          },
          "metadata": {}
        }
      ]
    },
    {
      "cell_type": "code",
      "source": [
        "print(f\"Training Loss: {split_loss('train', model):0.3f}\")\n",
        "print(f\"Validation Loss: {split_loss('val', model):0.3f}\")\n",
        "print(f\"Test Loss: {split_loss('test', model):0.3f}\")"
      ],
      "metadata": {
        "colab": {
          "base_uri": "https://localhost:8080/"
        },
        "id": "08VysuN_YCrW",
        "outputId": "60130b84-8923-4bd9-f369-506d30ca4a77"
      },
      "execution_count": null,
      "outputs": [
        {
          "output_type": "stream",
          "name": "stdout",
          "text": [
            "train 1.7355422973632812\n",
            "Training Loss: 1.736\n",
            "val 1.9888463020324707\n",
            "Validation Loss: 1.989\n",
            "test 1.9826596975326538\n",
            "Test Loss: 1.983\n"
          ]
        }
      ]
    },
    {
      "cell_type": "code",
      "source": [
        "sample(model)"
      ],
      "metadata": {
        "colab": {
          "base_uri": "https://localhost:8080/"
        },
        "id": "M0Rp0hkQYDk2",
        "outputId": "fb089180-816a-4436-c9a8-ea41f683b429"
      },
      "execution_count": null,
      "outputs": [
        {
          "output_type": "stream",
          "name": "stdout",
          "text": [
            "makari.\n",
            "marganette.\n",
            "vana.\n",
            "krishad.\n",
            "brittolli.\n",
            "belle.\n",
            "janisha.\n",
            "jaksha.\n",
            "sterlin.\n",
            "jahaan.\n",
            "keenaz.\n",
            "kacyla.\n",
            "roaidy.\n",
            "landie.\n",
            "thernell.\n",
            "yacien.\n",
            "abber.\n",
            "ezra.\n",
            "tavon.\n",
            "jamilyn.\n"
          ]
        }
      ]
    },
    {
      "cell_type": "markdown",
      "source": [
        "E03: Using convolutions"
      ],
      "metadata": {
        "id": "5kRAAovpYkIQ"
      }
    },
    {
      "cell_type": "code",
      "source": [
        "class ModelCnn(nn.Module):\n",
        "    def __init__(self, vocab_size, n_embed, n_hidden, n_layers):\n",
        "        super(ModelCnn, self).__init__()\n",
        "\n",
        "        self.n_layers = n_layers\n",
        "        self.embedding = nn.Embedding(vocab_size, n_embed)\n",
        "        self.fc1 = nn.Linear(n_embed, n_hidden, bias=False)\n",
        "\n",
        "        for i in range(n_layers):\n",
        "            setattr(self, f\"conv1d_{i}\", nn.Conv1d(in_channels=n_hidden, out_channels=n_hidden, kernel_size=2, stride=2, bias=False, dilation=1, padding=0))\n",
        "            setattr(self, f\"bn{i}\", nn.BatchNorm1d(n_hidden))\n",
        "\n",
        "\n",
        "        self.fc2 = nn.Linear(n_hidden, vocab_size, bias=False)\n",
        "\n",
        "    def forward(self, x):\n",
        "        x = self.embedding(x)\n",
        "        x = self.fc1(x)\n",
        "        x = F.tanh(x)\n",
        "        x = x.transpose(1,2)\n",
        "\n",
        "        for i in range(self.n_layers):\n",
        "            conv1d = getattr(self, f\"conv1d_{i}\")\n",
        "            bn = getattr(self, f\"bn{i}\")\n",
        "            x = conv1d(x)\n",
        "\n",
        "            x = bn(x)\n",
        "            x = F.tanh(x)\n",
        "\n",
        "        x = x.squeeze(-1)\n",
        "        x = self.fc2(x)\n",
        "        return x"
      ],
      "metadata": {
        "id": "xpKVum-RYx2E"
      },
      "execution_count": null,
      "outputs": []
    },
    {
      "cell_type": "code",
      "source": [
        "n_embed = 25\n",
        "n_hidden = 80\n",
        "\n",
        "model = ModelCnn(vocab_size= vocab_size, n_embed= n_embed, n_hidden= n_hidden, n_layers= 3)\n",
        "model(Xtr[:10]);\n",
        "train_losses = []\n",
        "dev_losses = []"
      ],
      "metadata": {
        "id": "W-u45AnZaCYy"
      },
      "execution_count": null,
      "outputs": []
    },
    {
      "cell_type": "code",
      "source": [
        "optimizer = torch.optim.SGD(model.parameters(), lr=0.1)\n",
        "scheduler = torch.optim.lr_scheduler.ReduceLROnPlateau(optimizer, mode='min', factor=0.5, patience=5, verbose=True)\n",
        "\n",
        "for epoch in range(100):\n",
        "    model.train()\n",
        "\n",
        "    for i in range(0, len(Xtr), 64):\n",
        "        x = Xtr[i:i+64]\n",
        "        y = Ytr[i:i+64]\n",
        "\n",
        "        logits = model(x)\n",
        "        loss = F.cross_entropy(logits, y)\n",
        "\n",
        "        optimizer.zero_grad()\n",
        "        loss.backward()\n",
        "        optimizer.step()\n",
        "\n",
        "    model.eval()\n",
        "    train_loss = split_loss('train', model)\n",
        "    dev_loss = split_loss('val', model)\n",
        "    train_losses.append(train_loss)\n",
        "    dev_losses.append(dev_loss)\n",
        "\n",
        "    scheduler.step(dev_loss)\n",
        "\n",
        "    print(f\"epoch : {epoch} train_loss : {train_loss} dev_loss : {dev_loss}\")"
      ],
      "metadata": {
        "colab": {
          "base_uri": "https://localhost:8080/"
        },
        "id": "2olK-1MBaHto",
        "outputId": "b2a7cd0f-fa95-49df-bd35-2919ccdb9559"
      },
      "execution_count": null,
      "outputs": [
        {
          "metadata": {
            "tags": null
          },
          "name": "stderr",
          "output_type": "stream",
          "text": [
            "/usr/local/lib/python3.11/dist-packages/torch/optim/lr_scheduler.py:62: UserWarning: The verbose parameter is deprecated. Please use get_last_lr() to access the learning rate.\n",
            "  warnings.warn(\n"
          ]
        },
        {
          "output_type": "stream",
          "name": "stdout",
          "text": [
            "train 2.199551582336426\n",
            "val 2.2154293060302734\n",
            "epoch : 0 train_loss : 2.199551582336426 dev_loss : 2.2154293060302734\n",
            "train 2.170574426651001\n",
            "val 2.2009072303771973\n",
            "epoch : 1 train_loss : 2.170574426651001 dev_loss : 2.2009072303771973\n",
            "train 2.1635613441467285\n",
            "val 2.20422101020813\n",
            "epoch : 2 train_loss : 2.1635613441467285 dev_loss : 2.20422101020813\n",
            "train 2.144472360610962\n",
            "val 2.1922755241394043\n",
            "epoch : 3 train_loss : 2.144472360610962 dev_loss : 2.1922755241394043\n",
            "train 2.122846841812134\n",
            "val 2.176370859146118\n",
            "epoch : 4 train_loss : 2.122846841812134 dev_loss : 2.176370859146118\n",
            "train 2.1033928394317627\n",
            "val 2.1626245975494385\n",
            "epoch : 5 train_loss : 2.1033928394317627 dev_loss : 2.1626245975494385\n",
            "train 2.087158679962158\n",
            "val 2.1521315574645996\n",
            "epoch : 6 train_loss : 2.087158679962158 dev_loss : 2.1521315574645996\n",
            "train 2.074558973312378\n",
            "val 2.1450998783111572\n",
            "epoch : 7 train_loss : 2.074558973312378 dev_loss : 2.1450998783111572\n",
            "train 2.065918445587158\n",
            "val 2.1418306827545166\n",
            "epoch : 8 train_loss : 2.065918445587158 dev_loss : 2.1418306827545166\n",
            "train 2.059487819671631\n",
            "val 2.1404213905334473\n",
            "epoch : 9 train_loss : 2.059487819671631 dev_loss : 2.1404213905334473\n",
            "train 2.053560495376587\n",
            "val 2.139132261276245\n",
            "epoch : 10 train_loss : 2.053560495376587 dev_loss : 2.139132261276245\n",
            "train 2.047262191772461\n",
            "val 2.137165069580078\n",
            "epoch : 11 train_loss : 2.047262191772461 dev_loss : 2.137165069580078\n",
            "train 2.040544033050537\n",
            "val 2.134553909301758\n",
            "epoch : 12 train_loss : 2.040544033050537 dev_loss : 2.134553909301758\n",
            "train 2.0336663722991943\n",
            "val 2.131622552871704\n",
            "epoch : 13 train_loss : 2.0336663722991943 dev_loss : 2.131622552871704\n",
            "train 2.027092456817627\n",
            "val 2.128873825073242\n",
            "epoch : 14 train_loss : 2.027092456817627 dev_loss : 2.128873825073242\n",
            "train 2.0211381912231445\n",
            "val 2.126652240753174\n",
            "epoch : 15 train_loss : 2.0211381912231445 dev_loss : 2.126652240753174\n",
            "train 2.0157482624053955\n",
            "val 2.1249191761016846\n",
            "epoch : 16 train_loss : 2.0157482624053955 dev_loss : 2.1249191761016846\n",
            "train 2.0107719898223877\n",
            "val 2.1235265731811523\n",
            "epoch : 17 train_loss : 2.0107719898223877 dev_loss : 2.1235265731811523\n",
            "train 2.006192922592163\n",
            "val 2.1224465370178223\n",
            "epoch : 18 train_loss : 2.006192922592163 dev_loss : 2.1224465370178223\n",
            "train 2.0021066665649414\n",
            "val 2.12174391746521\n",
            "epoch : 19 train_loss : 2.0021066665649414 dev_loss : 2.12174391746521\n",
            "train 1.9985922574996948\n",
            "val 2.1214561462402344\n",
            "epoch : 20 train_loss : 1.9985922574996948 dev_loss : 2.1214561462402344\n",
            "train 1.995658278465271\n",
            "val 2.1215569972991943\n",
            "epoch : 21 train_loss : 1.995658278465271 dev_loss : 2.1215569972991943\n",
            "train 1.9932876825332642\n",
            "val 2.122018337249756\n",
            "epoch : 22 train_loss : 1.9932876825332642 dev_loss : 2.122018337249756\n",
            "train 1.99151611328125\n",
            "val 2.122884511947632\n",
            "epoch : 23 train_loss : 1.99151611328125 dev_loss : 2.122884511947632\n",
            "train 1.9904221296310425\n",
            "val 2.124260902404785\n",
            "epoch : 24 train_loss : 1.9904221296310425 dev_loss : 2.124260902404785\n",
            "train 1.9900121688842773\n",
            "val 2.1261885166168213\n",
            "epoch : 25 train_loss : 1.9900121688842773 dev_loss : 2.1261885166168213\n",
            "train 1.9901025295257568\n",
            "val 2.1285178661346436\n",
            "epoch : 26 train_loss : 1.9901025295257568 dev_loss : 2.1285178661346436\n",
            "train 1.9351259469985962\n",
            "val 2.0840141773223877\n",
            "epoch : 27 train_loss : 1.9351259469985962 dev_loss : 2.0840141773223877\n",
            "train 1.9353504180908203\n",
            "val 2.088057518005371\n",
            "epoch : 28 train_loss : 1.9353504180908203 dev_loss : 2.088057518005371\n",
            "train 1.9356046915054321\n",
            "val 2.0910465717315674\n",
            "epoch : 29 train_loss : 1.9356046915054321 dev_loss : 2.0910465717315674\n",
            "train 1.9358112812042236\n",
            "val 2.093507766723633\n",
            "epoch : 30 train_loss : 1.9358112812042236 dev_loss : 2.093507766723633\n",
            "train 1.9359811544418335\n",
            "val 2.095651388168335\n",
            "epoch : 31 train_loss : 1.9359811544418335 dev_loss : 2.095651388168335\n",
            "train 1.9361240863800049\n",
            "val 2.0975818634033203\n",
            "epoch : 32 train_loss : 1.9361240863800049 dev_loss : 2.0975818634033203\n",
            "train 1.9362467527389526\n",
            "val 2.0993599891662598\n",
            "epoch : 33 train_loss : 1.9362467527389526 dev_loss : 2.0993599891662598\n",
            "train 1.898038625717163\n",
            "val 2.0669455528259277\n",
            "epoch : 34 train_loss : 1.898038625717163 dev_loss : 2.0669455528259277\n",
            "train 1.8975976705551147\n",
            "val 2.0690596103668213\n",
            "epoch : 35 train_loss : 1.8975976705551147 dev_loss : 2.0690596103668213\n",
            "train 1.8974745273590088\n",
            "val 2.0708765983581543\n",
            "epoch : 36 train_loss : 1.8974745273590088 dev_loss : 2.0708765983581543\n",
            "train 1.8974050283432007\n",
            "val 2.072448968887329\n",
            "epoch : 37 train_loss : 1.8974050283432007 dev_loss : 2.072448968887329\n",
            "train 1.8973439931869507\n",
            "val 2.073845863342285\n",
            "epoch : 38 train_loss : 1.8973439931869507 dev_loss : 2.073845863342285\n",
            "train 1.897279143333435\n",
            "val 2.075113296508789\n",
            "epoch : 39 train_loss : 1.897279143333435 dev_loss : 2.075113296508789\n",
            "train 1.8972066640853882\n",
            "val 2.076279640197754\n",
            "epoch : 40 train_loss : 1.8972066640853882 dev_loss : 2.076279640197754\n",
            "train 1.8778539896011353\n",
            "val 2.0602986812591553\n",
            "epoch : 41 train_loss : 1.8778539896011353 dev_loss : 2.0602986812591553\n",
            "train 1.8772495985031128\n",
            "val 2.061156988143921\n",
            "epoch : 42 train_loss : 1.8772495985031128 dev_loss : 2.061156988143921\n",
            "train 1.8769142627716064\n",
            "val 2.062016010284424\n",
            "epoch : 43 train_loss : 1.8769142627716064 dev_loss : 2.062016010284424\n",
            "train 1.8766469955444336\n",
            "val 2.0628068447113037\n",
            "epoch : 44 train_loss : 1.8766469955444336 dev_loss : 2.0628068447113037\n",
            "train 1.8764065504074097\n",
            "val 2.063535690307617\n",
            "epoch : 45 train_loss : 1.8764065504074097 dev_loss : 2.063535690307617\n",
            "train 1.8761801719665527\n",
            "val 2.0642154216766357\n",
            "epoch : 46 train_loss : 1.8761801719665527 dev_loss : 2.0642154216766357\n",
            "train 1.8759621381759644\n",
            "val 2.064854621887207\n",
            "epoch : 47 train_loss : 1.8759621381759644 dev_loss : 2.064854621887207\n",
            "train 1.8679890632629395\n",
            "val 2.0588207244873047\n",
            "epoch : 48 train_loss : 1.8679890632629395 dev_loss : 2.0588207244873047\n",
            "train 1.8675705194473267\n",
            "val 2.0592076778411865\n",
            "epoch : 49 train_loss : 1.8675705194473267 dev_loss : 2.0592076778411865\n",
            "train 1.867323875427246\n",
            "val 2.059633255004883\n",
            "epoch : 50 train_loss : 1.867323875427246 dev_loss : 2.059633255004883\n",
            "train 1.8671218156814575\n",
            "val 2.060046434402466\n",
            "epoch : 51 train_loss : 1.8671218156814575 dev_loss : 2.060046434402466\n",
            "train 1.8669383525848389\n",
            "val 2.060441732406616\n",
            "epoch : 52 train_loss : 1.8669383525848389 dev_loss : 2.060441732406616\n",
            "train 1.8667646646499634\n",
            "val 2.0608198642730713\n",
            "epoch : 53 train_loss : 1.8667646646499634 dev_loss : 2.0608198642730713\n",
            "train 1.8665971755981445\n",
            "val 2.061182975769043\n",
            "epoch : 54 train_loss : 1.8665971755981445 dev_loss : 2.061182975769043\n",
            "train 1.8635321855545044\n",
            "val 2.059204339981079\n",
            "epoch : 55 train_loss : 1.8635321855545044 dev_loss : 2.059204339981079\n",
            "train 1.8632878065109253\n",
            "val 2.0594074726104736\n",
            "epoch : 56 train_loss : 1.8632878065109253 dev_loss : 2.0594074726104736\n",
            "train 1.8631458282470703\n",
            "val 2.0596346855163574\n",
            "epoch : 57 train_loss : 1.8631458282470703 dev_loss : 2.0596346855163574\n",
            "train 1.8630300760269165\n",
            "val 2.0598583221435547\n",
            "epoch : 58 train_loss : 1.8630300760269165 dev_loss : 2.0598583221435547\n",
            "train 1.8629257678985596\n",
            "val 2.0600759983062744\n",
            "epoch : 59 train_loss : 1.8629257678985596 dev_loss : 2.0600759983062744\n",
            "train 1.8628268241882324\n",
            "val 2.0602872371673584\n",
            "epoch : 60 train_loss : 1.8628268241882324 dev_loss : 2.0602872371673584\n",
            "train 1.86161470413208\n",
            "val 2.0597026348114014\n",
            "epoch : 61 train_loss : 1.86161470413208 dev_loss : 2.0597026348114014\n",
            "train 1.8614784479141235\n",
            "val 2.0598104000091553\n",
            "epoch : 62 train_loss : 1.8614784479141235 dev_loss : 2.0598104000091553\n",
            "train 1.8614002466201782\n",
            "val 2.059936285018921\n",
            "epoch : 63 train_loss : 1.8614002466201782 dev_loss : 2.059936285018921\n",
            "train 1.8613377809524536\n",
            "val 2.0600600242614746\n",
            "epoch : 64 train_loss : 1.8613377809524536 dev_loss : 2.0600600242614746\n",
            "train 1.8612823486328125\n",
            "val 2.0601816177368164\n",
            "epoch : 65 train_loss : 1.8612823486328125 dev_loss : 2.0601816177368164\n",
            "train 1.8612300157546997\n",
            "val 2.06030011177063\n",
            "epoch : 66 train_loss : 1.8612300157546997 dev_loss : 2.06030011177063\n",
            "train 1.8606150150299072\n",
            "val 2.059999465942383\n",
            "epoch : 67 train_loss : 1.8606150150299072 dev_loss : 2.059999465942383\n",
            "train 1.860559344291687\n",
            "val 2.0600717067718506\n",
            "epoch : 68 train_loss : 1.860559344291687 dev_loss : 2.0600717067718506\n",
            "train 1.8605200052261353\n",
            "val 2.06014084815979\n",
            "epoch : 69 train_loss : 1.8605200052261353 dev_loss : 2.06014084815979\n",
            "train 1.860487461090088\n",
            "val 2.060208559036255\n",
            "epoch : 70 train_loss : 1.860487461090088 dev_loss : 2.060208559036255\n",
            "train 1.8604583740234375\n",
            "val 2.060274600982666\n",
            "epoch : 71 train_loss : 1.8604583740234375 dev_loss : 2.060274600982666\n",
            "train 1.860431432723999\n",
            "val 2.0603396892547607\n",
            "epoch : 72 train_loss : 1.860431432723999 dev_loss : 2.0603396892547607\n",
            "train 1.8602170944213867\n",
            "val 2.060225009918213\n",
            "epoch : 73 train_loss : 1.8602170944213867 dev_loss : 2.060225009918213\n",
            "train 1.8602029085159302\n",
            "val 2.0602753162384033\n",
            "epoch : 74 train_loss : 1.8602029085159302 dev_loss : 2.0602753162384033\n",
            "train 1.860189437866211\n",
            "val 2.0603184700012207\n",
            "epoch : 75 train_loss : 1.860189437866211 dev_loss : 2.0603184700012207\n",
            "train 1.860175609588623\n",
            "val 2.0603575706481934\n",
            "epoch : 76 train_loss : 1.860175609588623 dev_loss : 2.0603575706481934\n",
            "train 1.860161542892456\n",
            "val 2.060393810272217\n",
            "epoch : 77 train_loss : 1.860161542892456 dev_loss : 2.060393810272217\n",
            "train 1.8601478338241577\n",
            "val 2.060429573059082\n",
            "epoch : 78 train_loss : 1.8601478338241577 dev_loss : 2.060429573059082\n",
            "train 1.860153317451477\n",
            "val 2.0604567527770996\n",
            "epoch : 79 train_loss : 1.860153317451477 dev_loss : 2.0604567527770996\n",
            "train 1.8601579666137695\n",
            "val 2.06048846244812\n",
            "epoch : 80 train_loss : 1.8601579666137695 dev_loss : 2.06048846244812\n",
            "train 1.860156774520874\n",
            "val 2.0605156421661377\n",
            "epoch : 81 train_loss : 1.860156774520874 dev_loss : 2.0605156421661377\n",
            "train 1.8601526021957397\n",
            "val 2.0605387687683105\n",
            "epoch : 82 train_loss : 1.8601526021957397 dev_loss : 2.0605387687683105\n",
            "train 1.860147476196289\n",
            "val 2.060560464859009\n",
            "epoch : 83 train_loss : 1.860147476196289 dev_loss : 2.060560464859009\n",
            "train 1.8601419925689697\n",
            "val 2.0605812072753906\n",
            "epoch : 84 train_loss : 1.8601419925689697 dev_loss : 2.0605812072753906\n",
            "train 1.8601689338684082\n",
            "val 2.060617208480835\n",
            "epoch : 85 train_loss : 1.8601689338684082 dev_loss : 2.060617208480835\n",
            "train 1.860180377960205\n",
            "val 2.0606393814086914\n",
            "epoch : 86 train_loss : 1.860180377960205 dev_loss : 2.0606393814086914\n",
            "train 1.8601855039596558\n",
            "val 2.060657024383545\n",
            "epoch : 87 train_loss : 1.8601855039596558 dev_loss : 2.060657024383545\n",
            "train 1.86018705368042\n",
            "val 2.0606720447540283\n",
            "epoch : 88 train_loss : 1.86018705368042 dev_loss : 2.0606720447540283\n",
            "train 1.8601868152618408\n",
            "val 2.0606849193573\n",
            "epoch : 89 train_loss : 1.8601868152618408 dev_loss : 2.0606849193573\n",
            "train 1.8601855039596558\n",
            "val 2.060696601867676\n",
            "epoch : 90 train_loss : 1.8601855039596558 dev_loss : 2.060696601867676\n",
            "train 1.8601986169815063\n",
            "val 2.060716390609741\n",
            "epoch : 91 train_loss : 1.8601986169815063 dev_loss : 2.060716390609741\n",
            "train 1.8602055311203003\n",
            "val 2.060728073120117\n",
            "epoch : 92 train_loss : 1.8602055311203003 dev_loss : 2.060728073120117\n",
            "train 1.8602101802825928\n",
            "val 2.0607385635375977\n",
            "epoch : 93 train_loss : 1.8602101802825928 dev_loss : 2.0607385635375977\n",
            "train 1.860213041305542\n",
            "val 2.0607478618621826\n",
            "epoch : 94 train_loss : 1.860213041305542 dev_loss : 2.0607478618621826\n",
            "train 1.8602150678634644\n",
            "val 2.060756206512451\n",
            "epoch : 95 train_loss : 1.8602150678634644 dev_loss : 2.060756206512451\n",
            "train 1.8602157831192017\n",
            "val 2.0607635974884033\n",
            "epoch : 96 train_loss : 1.8602157831192017 dev_loss : 2.0607635974884033\n",
            "train 1.8602213859558105\n",
            "val 2.0607728958129883\n",
            "epoch : 97 train_loss : 1.8602213859558105 dev_loss : 2.0607728958129883\n",
            "train 1.8602243661880493\n",
            "val 2.0607786178588867\n",
            "epoch : 98 train_loss : 1.8602243661880493 dev_loss : 2.0607786178588867\n",
            "train 1.8602268695831299\n",
            "val 2.060784101486206\n",
            "epoch : 99 train_loss : 1.8602268695831299 dev_loss : 2.060784101486206\n"
          ]
        }
      ]
    },
    {
      "cell_type": "code",
      "source": [
        "plt.plot(train_losses, label = 'train')\n",
        "plt.plot(dev_losses, label = 'dev')\n",
        "\n",
        "plt.xlabel('epoch')\n",
        "plt.ylabel('loss')\n",
        "\n",
        "plt.legend()"
      ],
      "metadata": {
        "colab": {
          "base_uri": "https://localhost:8080/",
          "height": 467
        },
        "id": "Nslu3XteaM_4",
        "outputId": "8773c590-bbdd-4b2c-d4be-9f5827925583"
      },
      "execution_count": null,
      "outputs": [
        {
          "output_type": "execute_result",
          "data": {
            "text/plain": [
              "<matplotlib.legend.Legend at 0x797fd4163dd0>"
            ]
          },
          "metadata": {},
          "execution_count": 65
        },
        {
          "output_type": "display_data",
          "data": {
            "text/plain": [
              "<Figure size 640x480 with 1 Axes>"
            ],
            "image/png": "[encoded data removed]"
          },
          "metadata": {}
        }
      ]
    },
    {
      "cell_type": "code",
      "source": [
        "print(f\"Training Loss: {split_loss('train', model):0.3f}\")\n",
        "print(f\"Validation Loss: {split_loss('val', model):0.3f}\")\n",
        "print(f\"Test Loss: {split_loss('test', model):0.3f}\")"
      ],
      "metadata": {
        "colab": {
          "base_uri": "https://localhost:8080/"
        },
        "id": "0dLTMnDPaQSv",
        "outputId": "580e9f58-864c-4d15-cc2f-1e06a570b1e2"
      },
      "execution_count": null,
      "outputs": [
        {
          "output_type": "stream",
          "name": "stdout",
          "text": [
            "train 1.8602268695831299\n",
            "Training Loss: 1.860\n",
            "val 2.060784101486206\n",
            "Validation Loss: 2.061\n",
            "test 2.0550239086151123\n",
            "Test Loss: 2.055\n"
          ]
        }
      ]
    },
    {
      "cell_type": "code",
      "source": [
        "sample(model)"
      ],
      "metadata": {
        "colab": {
          "base_uri": "https://localhost:8080/"
        },
        "id": "Uz_47M23aW9l",
        "outputId": "d2f34e79-c44b-4600-c135-f74856e4a565"
      },
      "execution_count": null,
      "outputs": [
        {
          "output_type": "stream",
          "name": "stdout",
          "text": [
            "eframina.\n",
            "wilden.\n",
            "arjuetti.\n",
            "genan.\n",
            "alaiah.\n",
            "haloma.\n",
            "zashira.\n",
            "jeahen.\n",
            "kaydin.\n",
            "araelia.\n",
            "dhalan.\n",
            "karleigh.\n",
            "sarlatt.\n",
            "laron.\n",
            "kaity.\n",
            "italey.\n",
            "brylan.\n",
            "albea.\n",
            "kyzleigh.\n",
            "sheneny.\n"
          ]
        }
      ]
    }
  ],
  "metadata": {
    "kernelspec": {
      "display_name": "Python 3",
      "language": "python",
      "name": "python3"
    },
    "language_info": {
      "codemirror_mode": {
        "name": "ipython",
        "version": 3
      },
      "file_extension": ".py",
      "mimetype": "text/x-python",
      "name": "python",
      "nbconvert_exporter": "python",
      "pygments_lexer": "ipython3",
      "version": "3.8.5"
    },
    "colab": {
      "provenance": []
    }
  },
  "nbformat": 4,
  "nbformat_minor": 0
}